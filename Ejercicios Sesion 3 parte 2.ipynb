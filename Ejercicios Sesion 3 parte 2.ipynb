{
 "cells": [
  {
   "cell_type": "markdown",
   "metadata": {},
   "source": [
    "# Ejercicios de la primera semana\n",
    "\n",
    "A continuación se muestran algunos ejercicios sobre los temas de la semana: \n",
    "\n",
    "\n",
    "#### 1. Calcula el número $\\pi$ usando la fórmula\n",
    "\n",
    "$$\\pi=2\\prod_{i=1}^{\\infty}\\frac{4 i^2 }{4i^2-1 }$$\n",
    "\n",
    "\n"
   ]
  },
  {
   "cell_type": "code",
   "execution_count": 76,
   "metadata": {},
   "outputs": [
    {
     "name": "stdout",
     "output_type": "stream",
     "text": [
      "3.141584799578707\n"
     ]
    }
   ],
   "source": [
    "#calculate pi using the given formula\n",
    "elpi = 1\n",
    "limite = 100000\n",
    "x = 1\n",
    "while x < limite:\n",
    "    elpi = elpi * (4 * x * x / (4 * x * x - 1))\n",
    "    x = x + 1\n",
    "elpi = elpi * 2\n",
    "\n",
    "print (elpi)"
   ]
  },
  {
   "cell_type": "markdown",
   "metadata": {},
   "source": [
    "#### 2. Calcula las primeras 10 potencias de 2 ($2^n$). Guarda los valores para cada uno de los exponentes y regresa la suma como valor.\n"
   ]
  },
  {
   "cell_type": "code",
   "execution_count": 71,
   "metadata": {},
   "outputs": [
    {
     "name": "stdout",
     "output_type": "stream",
     "text": [
      "la suma de la potencia es 1023\n"
     ]
    }
   ],
   "source": [
    "potencia = 2\n",
    "respotencia = 1\n",
    "sumpotencia = 1\n",
    "for i in range(0,9):\n",
    "    respotencia = respotencia * 2\n",
    "    sumpotencia = sumpotencia + respotencia\n",
    "print (\"la suma de la potencia es\", sumpotencia)"
   ]
  },
  {
   "cell_type": "markdown",
   "metadata": {},
   "source": [
    "#### 3. Obtener los primeros 10 numeros pares "
   ]
  },
  {
   "cell_type": "code",
   "execution_count": 33,
   "metadata": {},
   "outputs": [
    {
     "name": "stdout",
     "output_type": "stream",
     "text": [
      "[2, 4, 6, 8, 10, 12, 14, 16, 18, 20]\n"
     ]
    }
   ],
   "source": [
    "x = 1\n",
    "contarnumeros = 0\n",
    "numeros_pares = []\n",
    "while(x):\n",
    "    if x % 2 == 0:\n",
    "        numeros_pares.append(x)\n",
    "        contarnumeros = contarnumeros + 1\n",
    "    if contarnumeros >= 10:\n",
    "        break\n",
    "    x = x + 1\n",
    "\n",
    "print (numeros_pares)\n",
    "    \n",
    "        "
   ]
  },
  {
   "cell_type": "markdown",
   "metadata": {},
   "source": [
    "\n",
    "#### 4. Escriba una función que nos permita calcular la suma de los cuadrados de dos números\n"
   ]
  },
  {
   "cell_type": "code",
   "execution_count": 78,
   "metadata": {},
   "outputs": [
    {
     "name": "stdout",
     "output_type": "stream",
     "text": [
      "Ingrese el primer numero100\n",
      "Ingrese el segundo numero100\n",
      "La suma de los cuadrados de los dos numeros es: 20000\n"
     ]
    }
   ],
   "source": [
    "#the function that sums the squared input of two integers\n",
    "def calcularCuadradosSum(numero_uno,numero_dos):\n",
    "    cuadrado_uno = numero_uno * numero_uno\n",
    "    cuadrado_dos = numero_dos * numero_dos\n",
    "    suma_cuadrados = cuadrado_uno + cuadrado_dos\n",
    "    return suma_cuadrados\n",
    "\n",
    "#validate input\n",
    "valid = 0\n",
    "try:\n",
    "    numero = int(input(\"Ingrese el primer numero\"))\n",
    "    numero_dos = int(input(\"Ingrese el segundo numero\"))\n",
    "    valid = 1\n",
    "except ValueError:\n",
    "    print(\"Este no es un numero entero\")\n",
    "\n",
    "#execute task\n",
    "if valid == 1:\n",
    "    resultado = calcularCuadradosSum(numero,numero_dos)\n",
    "    print (\"La suma de los cuadrados de los dos numeros es:\" , resultado)"
   ]
  },
  {
   "cell_type": "markdown",
   "metadata": {},
   "source": [
    "#### 5. Escriba una función que calcule, guarde en una lista y muestre los elementos de la secuencia de Fibonacci"
   ]
  },
  {
   "cell_type": "code",
   "execution_count": 39,
   "metadata": {},
   "outputs": [
    {
     "name": "stdout",
     "output_type": "stream",
     "text": [
      "[0, 1, 1, 2, 3, 5, 8, 13, 21, 34, 55, 89, 144, 233, 377, 610, 987, 1597, 2584, 4181, 6765, 10946, 17711, 28657, 46368, 75025, 121393, 196418, 317811, 514229, 832040, 1346269, 2178309, 3524578, 5702887, 9227465, 14930352, 24157817, 39088169, 63245986, 102334155, 165580141, 267914296, 433494437, 701408733, 1134903170, 1836311903, 2971215073, 4807526976, 7778742049, 12586269025, 20365011074, 32951280099, 53316291173, 86267571272, 139583862445, 225851433717, 365435296162, 591286729879, 956722026041, 1548008755920, 2504730781961, 4052739537881, 6557470319842, 10610209857723, 17167680177565, 27777890035288, 44945570212853, 72723460248141, 117669030460994, 190392490709135, 308061521170129, 498454011879264, 806515533049393, 1304969544928657, 2111485077978050, 3416454622906707, 5527939700884757, 8944394323791464, 14472334024676221, 23416728348467685, 37889062373143906, 61305790721611591, 99194853094755497, 160500643816367088, 259695496911122585, 420196140727489673, 679891637638612258, 1100087778366101931, 1779979416004714189, 2880067194370816120, 4660046610375530309, 7540113804746346429, 12200160415121876738, 19740274219868223167, 31940434634990099905, 51680708854858323072, 83621143489848422977, 135301852344706746049, 218922995834555169026]\n"
     ]
    }
   ],
   "source": [
    "#calculate fibonnaci\n",
    "cuantosnumeros = 100\n",
    "fibo = [0]\n",
    "x = 0\n",
    "y = 1\n",
    "for i in range(1,cuantosnumeros):\n",
    "    z = x + y\n",
    "    fibo.append(z)\n",
    "    y = x\n",
    "    x = z\n",
    "print(fibo)"
   ]
  },
  {
   "cell_type": "markdown",
   "metadata": {},
   "source": [
    "#### 6. Crear una función que reciba un parámetro númerico e imprima el nombre de una fruta:  *Naranjas* si el parámetro es igual a 0, *Manzanas* si el parámetro es igual a 1 y *Peras* si el paráemtro es igual a 2 "
   ]
  },
  {
   "cell_type": "code",
   "execution_count": 80,
   "metadata": {},
   "outputs": [
    {
     "name": "stdout",
     "output_type": "stream",
     "text": [
      "Seleccione una fruta 0-20\n",
      "Naranjas\n"
     ]
    }
   ],
   "source": [
    "#function that selects a fruit using a number\n",
    "def escojeFruta(numero):\n",
    "    if (numero == 0):\n",
    "        print (\"Naranjas\")\n",
    "    elif(numero == 1):\n",
    "        print (\"Manzanas\")\n",
    "    elif(numero == 2):\n",
    "        print (\"Peras\")\n",
    "    else:\n",
    "        print (\"Esta Fruta no la conosco\")\n",
    "\n",
    "#validate input\n",
    "valid = 0\n",
    "try:\n",
    "    numero = int(input(\"Seleccione una fruta 0-2\"))\n",
    "    valid = 1\n",
    "except ValueError:\n",
    "    print(\"Esta no es una fruta\")\n",
    "\n",
    "#execute task\n",
    "if valid == 1:\n",
    "    escojeFruta(numero)"
   ]
  },
  {
   "cell_type": "markdown",
   "metadata": {},
   "source": [
    "#### 7. Crear una función la función error: imprima un mensaje que notifique al usuario si existe un error\n"
   ]
  },
  {
   "cell_type": "code",
   "execution_count": 42,
   "metadata": {},
   "outputs": [
    {
     "name": "stdout",
     "output_type": "stream",
     "text": [
      "Existe un error\n"
     ]
    }
   ],
   "source": [
    "def printError():\n",
    "    print (\"Existe un error\")\n",
    "\n",
    "printError()"
   ]
  },
  {
   "cell_type": "markdown",
   "metadata": {},
   "source": [
    "#### 8. Definamos la función matemática del valor absoluto de un número:  Si el número de entrada es negativo, devolver el valor e imprimir un mensaje semejante a \"El valor absoluto es:\". Si no, devolver el valor del número introducido e imprimir el mismo mensaje\n",
    "   "
   ]
  },
  {
   "cell_type": "code",
   "execution_count": 91,
   "metadata": {},
   "outputs": [
    {
     "name": "stdout",
     "output_type": "stream",
     "text": [
      "Ingresa un numero para saber su absoluto10\n",
      "10\n"
     ]
    }
   ],
   "source": [
    "#function that returns an absolute number if this one is negative or positive\n",
    "def valorAbsoluto(numero):\n",
    "    # absoluto = abs(numero)\n",
    "    if (numero < 0):\n",
    "        absoluto = numero * -1\n",
    "    else:\n",
    "        absoluto = numero\n",
    "    return absoluto\n",
    "\n",
    "#validate input\n",
    "valid = 0\n",
    "try:\n",
    "    numero = int(input(\"Ingresa un numero para saber su absoluto\"))\n",
    "    valid = 1\n",
    "except ValueError:\n",
    "    print(\"Entrada no valida\")\n",
    "\n",
    "#execute task\n",
    "if valid == 1:\n",
    "    absoluto = valorAbsoluto(numero)\n",
    "    print (absoluto)"
   ]
  },
  {
   "cell_type": "code",
   "execution_count": 29,
   "metadata": {},
   "outputs": [
    {
     "data": {
      "text/plain": [
       "17"
      ]
     },
     "execution_count": 29,
     "metadata": {},
     "output_type": "execute_result"
    }
   ],
   "source": []
  },
  {
   "cell_type": "markdown",
   "metadata": {},
   "source": [
    "#### 9.Defininir una función que realice el cambio del valor de dos variables: el valor de la primera se otorga a la segunda y viceversa. \n",
    "\n",
    "\n"
   ]
  },
  {
   "cell_type": "code",
   "execution_count": 83,
   "metadata": {},
   "outputs": [
    {
     "name": "stdout",
     "output_type": "stream",
     "text": [
      "Ingrese el primer valor (variable_one):caca\n",
      "Ingrese el segundo valor (variable_two):caquita\n",
      "ahora el valor de las variables es\n",
      "{'variable_one': 'caquita', 'variable_two': 'caca'}\n"
     ]
    }
   ],
   "source": [
    "#function that switch values and returns a dictionary\n",
    "def cambiarValores(variable_one,variable_two):\n",
    "    variable_temp = variable_one\n",
    "    variable_one = variable_two\n",
    "    variable_two = variable_temp\n",
    "    del variable_temp\n",
    "    variables = { \"variable_one\":variable_one,\"variable_two\":variable_two}\n",
    "    return variables\n",
    "\n",
    "#validate input\n",
    "valid = 0\n",
    "try:\n",
    "    variable_one = input(\"Ingrese el primer valor (variable_one):\")\n",
    "    variable_two = input(\"Ingrese el segundo valor (variable_two):\")\n",
    "    valid = 1\n",
    "except ValueError:\n",
    "    print(\"Este no es un numero entero\")\n",
    "\n",
    "#execute task\n",
    "if valid == 1:\n",
    "    variables = cambiarValores(variable_one,variable_two)\n",
    "    print (\"ahora el valor de las variables es\")\n",
    "    print (variables)\n",
    "        "
   ]
  },
  {
   "cell_type": "markdown",
   "metadata": {},
   "source": [
    "#### 10. Cree un programa que le pida al usuario que ingrese su nombre y su edad. Imprima un mensaje dirigido a ellos que les diga el año en que cumplirán 100 años."
   ]
  },
  {
   "cell_type": "code",
   "execution_count": 90,
   "metadata": {},
   "outputs": [
    {
     "name": "stdout",
     "output_type": "stream",
     "text": [
      "Ingresa tu nombre:julio\n",
      "Ingresa tu edad o la edad que cumpliras el año en curso:38\n",
      "julio ¿Pensando en tener familia?. Piensalo bien. En el año 2082 cumpliras 100\n"
     ]
    }
   ],
   "source": [
    "#function that determinates the missing years and parse the message\n",
    "def hundredBirthDay(name,age):\n",
    "    current_year = 2020\n",
    "    if age > 100:\n",
    "        resultado_str = name + \" ya estas viviendo tiempos extras.\"\n",
    "        return resultado_str\n",
    "    missing_years = 100 - age\n",
    "    resultado = missing_years + current_year\n",
    "    if missing_years < 15:\n",
    "        resultado_str = name + \" espero que ya tengas tus asuntos en orden. En el año \" + str(resultado) + \" cumpliras 100\"\n",
    "        return resultado_str\n",
    "    elif missing_years < 30:\n",
    "        resultado_str = name + \" estoy seguro que viviste tu vida como quisiste. En el año \" + str(resultado) + \" cumpliras 100\"\n",
    "        return resultado_str\n",
    "    elif missing_years < 50:\n",
    "        resultado_str = name + \" vas a la mitad de 100! Piensa si te faltan cosas por hacer. En el año \" + str(resultado) + \" cumpliras 100\"\n",
    "        return resultado_str\n",
    "    elif missing_years < 70:\n",
    "        resultado_str = name + \" ¿Pensando en tener familia? o ¿Demasiado tarde?. Piensalo bien. En el año \" + str(resultado) + \" cumpliras 100\"\n",
    "        return resultado_str\n",
    "    elif missing_years < 85:\n",
    "        resultado_str = name + \" vive tu vida, a lo mejor encuentran el secreto a la inmortalidad en lo que creces. En el año \" + str(resultado) + \" cumpliras 100\"\n",
    "        return resultado_str\n",
    "    elif missing_years < 90:\n",
    "        resultado_str = name + \" has tu tarea y vete a dormir temprano. En el año \" + str(resultado) + \" cumpliras 100\"\n",
    "        return resultado_str\n",
    "    else:\n",
    "        resultado_str = name + \" ¿Tus papas saben que estas usando la computadora?. En el año \" + str(resultado) + \" cumpliras 100\"\n",
    "        return resultado_str\n",
    "\n",
    "#validate input\n",
    "valid = 0\n",
    "try:\n",
    "    name = input(\"Ingresa tu nombre:\")\n",
    "    age = int(input(\"Ingresa tu edad o la edad que cumpliras el año en curso:\"))\n",
    "    valid = 1\n",
    "except ValueError:\n",
    "    print(\"La edad no es un numero entero\")\n",
    "\n",
    "#execute task\n",
    "if valid == 1:\n",
    "    resultado_str = hundredBirthDay(name,age)\n",
    "    print (resultado_str)"
   ]
  },
  {
   "cell_type": "markdown",
   "metadata": {},
   "source": [
    "#### 11. Pregunte al usuario por un número. Dependiendo de si el número es par o impar, imprima un mensaje apropiado para el usuario.\n",
    "\n"
   ]
  },
  {
   "cell_type": "code",
   "execution_count": 94,
   "metadata": {},
   "outputs": [
    {
     "name": "stdout",
     "output_type": "stream",
     "text": [
      "Ingresa un numero:3\n",
      "El numero ingresado (3) es impar\n"
     ]
    }
   ],
   "source": [
    "def esNumeroPar(numero):\n",
    "    if numero % 2 == 0:\n",
    "        print (\"El numero ingresado (\"+ str(numero) +\") es par\")\n",
    "    else:\n",
    "        print (\"El numero ingresado (\"+ str(numero) +\") es impar\")\n",
    "\n",
    "#validate input\n",
    "valid = 0\n",
    "try:\n",
    "    numero = int(input(\"Ingresa un numero:\"))\n",
    "    valid = 1\n",
    "except ValueError:\n",
    "    print(\"La entrada no es un numero entero\")\n",
    "\n",
    "#execute task\n",
    "if valid == 1:\n",
    "    esNumeroPar(numero)\n",
    "    "
   ]
  },
  {
   "cell_type": "markdown",
   "metadata": {},
   "source": [
    "#### 12. Escriba una función que reciba una lista  como parámetro y devuelva una nueva lista que contenga todos los elementos de la primera lista menos todos los duplicados.\n"
   ]
  },
  {
   "cell_type": "code",
   "execution_count": null,
   "metadata": {},
   "outputs": [],
   "source": [
    "def cleanList(lista)\n",
    "    newlist = list(set(lista))\n",
    "    return newlist\n"
   ]
  },
  {
   "cell_type": "markdown",
   "metadata": {},
   "source": [
    "#### 13. Haz un juego de dos jugadores de piedra, papel y tijeras, Dada una función de dos entradas, compáralas, imprime un mensaje de felicitaciones al ganador."
   ]
  },
  {
   "cell_type": "code",
   "execution_count": 4,
   "metadata": {},
   "outputs": [
    {
     "name": "stdout",
     "output_type": "stream",
     "text": [
      "Vamos a jugar piedras papel o tijeras (2 jugadores):\n",
      "las opciones son:\n",
      "1:piedra\n",
      "2:papel\n",
      "3:tijeras\n",
      "Jugador #1: Selecciona una opcion1\n",
      "Jugador #2: Selecciona una opcion2\n",
      "El ganador es el Jugador #2\n",
      "Ingresa la tecla 'Y' para volver a jugar o cualquier otra para saliry\n",
      "Vamos a jugar piedras papel o tijeras (2 jugadores):\n",
      "las opciones son:\n",
      "1:piedra\n",
      "2:papel\n",
      "3:tijeras\n",
      "Jugador #1: Selecciona una opcion2\n",
      "Jugador #2: Selecciona una opcion3\n",
      "El ganador es el Jugador #2\n",
      "Ingresa la tecla 'Y' para volver a jugar o cualquier otra para salir\n",
      "thank you come again :)\n"
     ]
    }
   ],
   "source": [
    "#function that defines the winner of the game\n",
    "def ganadorPPT(jugador_uno,jugador_dos):\n",
    "    if jugador_uno == jugador_dos:\n",
    "        print (\"Es un empate\")\n",
    "        return\n",
    "    if jugador_uno == 1:\n",
    "        if jugador_dos == 2:\n",
    "            print (\"El ganador es el Jugador #2\")\n",
    "        else:\n",
    "            print (\"El ganador es el Jugador #1\")\n",
    "    if jugador_uno == 2:\n",
    "        if jugador_dos == 3:\n",
    "            print (\"El ganador es el Jugador #2\")\n",
    "        else:\n",
    "            print (\"El ganador es el Jugador #1\")\n",
    "    if jugador_uno == 3:\n",
    "        if jugador_dos == 1:\n",
    "            print (\"El ganador es el Jugador #2\")\n",
    "        else:\n",
    "            print (\"El ganador es el Jugador #1\")\n",
    "\n",
    "\n",
    "#declare\n",
    "opciones_juego = [1,2,3]\n",
    "\n",
    "#instructions of the game\n",
    "print (\"Vamos a jugar piedras papel o tijeras (2 jugadores):\")\n",
    "print (\"las opciones son:\")\n",
    "print (\"1:piedra\")\n",
    "print (\"2:papel\")\n",
    "print (\"3:tijeras\")\n",
    "\n",
    "#validate input\n",
    "valid = 0\n",
    "try:\n",
    "    jugador_uno = int(input(\"Jugador #1: Selecciona una opcion\"))\n",
    "    jugador_dos = int(input(\"Jugador #2: Selecciona una opcion\"))\n",
    "except ValueError:\n",
    "    print(\"La entrada no es un numero entero\")\n",
    "\n",
    "#validate option\n",
    "if jugador_uno in opciones_juego:\n",
    "    if jugador_dos in opciones_juego:\n",
    "        valid = 1\n",
    "\n",
    "#execute task\n",
    "if valid == 1:\n",
    "    ganadorPPT(jugador_uno,jugador_dos)\n",
    "else:\n",
    "    print (\"hubo un error en el juego intentalo de nuevo.\")\n",
    "\n"
   ]
  },
  {
   "cell_type": "markdown",
   "metadata": {},
   "source": [
    "\n",
    "#### 14. Similar al ejercicio pasado, haz un juego de piedra papel y tijeras en una función que: pregunte a los usuarios sobre sus opciones, haga las comparaciones, entregue el resultado. Finalmente pregunte si quieren seguir jugnado y si sí, comience el juego de nuevo. "
   ]
  },
  {
   "cell_type": "code",
   "execution_count": null,
   "metadata": {},
   "outputs": [],
   "source": [
    "#function that defines the winner of the game\n",
    "def ganadorPPT(jugador_uno,jugador_dos):\n",
    "    if jugador_uno == jugador_dos:\n",
    "        print (\"Es un empate\")\n",
    "        return\n",
    "    if jugador_uno == 1:\n",
    "        if jugador_dos == 2:\n",
    "            print (\"El ganador es el Jugador #2\")\n",
    "        else:\n",
    "            print (\"El ganador es el Jugador #1\")\n",
    "    if jugador_uno == 2:\n",
    "        if jugador_dos == 3:\n",
    "            print (\"El ganador es el Jugador #2\")\n",
    "        else:\n",
    "            print (\"El ganador es el Jugador #1\")\n",
    "    if jugador_uno == 3:\n",
    "        if jugador_dos == 1:\n",
    "            print (\"El ganador es el Jugador #2\")\n",
    "        else:\n",
    "            print (\"El ganador es el Jugador #1\")\n",
    "\n",
    "def startGame():\n",
    "    #declare\n",
    "    opciones_juego = [1,2,3]\n",
    "\n",
    "    #instructions of the game\n",
    "    print (\"Vamos a jugar piedras papel o tijeras (2 jugadores):\")\n",
    "    print (\"las opciones son:\")\n",
    "    print (\"1:piedra\")\n",
    "    print (\"2:papel\")\n",
    "    print (\"3:tijeras\")\n",
    "\n",
    "    #validate input\n",
    "    valid = 0\n",
    "    try:\n",
    "        jugador_uno = int(input(\"Jugador #1: Selecciona una opcion\"))\n",
    "        jugador_dos = int(input(\"Jugador #2: Selecciona una opcion\"))\n",
    "    except ValueError:\n",
    "        print(\"La entrada no es un numero entero\")\n",
    "\n",
    "    #validate option\n",
    "    if jugador_uno in opciones_juego:\n",
    "        if jugador_dos in opciones_juego:\n",
    "            valid = 1\n",
    "\n",
    "    #execute task\n",
    "    if valid == 1:\n",
    "        ganadorPPT(jugador_uno,jugador_dos)\n",
    "        start_again = input(\"Ingresa la tecla 'Y' para volver a jugar o cualquier otra para salir\")\n",
    "        if str(start_again).lower() == \"y\":\n",
    "            startGame()\n",
    "        else:\n",
    "            print (\"thank you come again :)\")\n",
    "    else:\n",
    "        print (\"hubo un error en el juego intentalo de nuevo.\")\n",
    "\n",
    "startGame()"
   ]
  },
  {
   "cell_type": "markdown",
   "metadata": {},
   "source": [
    "#### 15. Dada una oración, realice las operaciones necesarias para invertir el orden de las palabras "
   ]
  },
  {
   "cell_type": "code",
   "execution_count": null,
   "metadata": {},
   "outputs": [],
   "source": []
  },
  {
   "cell_type": "markdown",
   "metadata": {},
   "source": [
    "#### 16. Crea un generador de contraseñas, donde la longitud sea un parámetro de entrada para el usuario. Usa letras mayúsculas, minúsculas y números. "
   ]
  },
  {
   "cell_type": "code",
   "execution_count": 30,
   "metadata": {},
   "outputs": [],
   "source": []
  },
  {
   "cell_type": "markdown",
   "metadata": {},
   "source": [
    "#### 17. Cree un archivo de texto (extensión .txt) con letras aleatorias (incluyendo espacios) con una extensión de 500 caracteres. "
   ]
  },
  {
   "cell_type": "code",
   "execution_count": null,
   "metadata": {},
   "outputs": [],
   "source": []
  },
  {
   "cell_type": "markdown",
   "metadata": {},
   "source": [
    "#### 18. Lee el archivo pasado e invierte todo el texto (hola -> aloh) y guardalo con un nombre diferente. "
   ]
  },
  {
   "cell_type": "code",
   "execution_count": null,
   "metadata": {},
   "outputs": [],
   "source": [
    " "
   ]
  },
  {
   "cell_type": "markdown",
   "metadata": {},
   "source": [
    "#### 19. Compara dos listas (pueden ser de diferentes tamaños. Construye dos listas: una con los elementos en común y otra con el resto de los elementos. \n"
   ]
  },
  {
   "cell_type": "code",
   "execution_count": null,
   "metadata": {},
   "outputs": [],
   "source": []
  }
 ],
 "metadata": {
  "kernelspec": {
   "display_name": "Python 3",
   "language": "python",
   "name": "python3"
  },
  "language_info": {
   "codemirror_mode": {
    "name": "ipython",
    "version": 3
   },
   "file_extension": ".py",
   "mimetype": "text/x-python",
   "name": "python",
   "nbconvert_exporter": "python",
   "pygments_lexer": "ipython3",
   "version": "3.7.6"
  }
 },
 "nbformat": 4,
 "nbformat_minor": 2
}
