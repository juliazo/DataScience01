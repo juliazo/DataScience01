{
 "cells": [
  {
   "cell_type": "markdown",
   "metadata": {},
   "source": [
    "# Taller de problemas"
   ]
  },
  {
   "cell_type": "markdown",
   "metadata": {},
   "source": [
    "\n",
    "## Trabajo del fin de Semana\n",
    "1. Utilizando BeautifulSoup4; scrappea una página de mercado libre con las propiedades: (Nombre del producto, Precio, Precio original, numero de ventas). \n",
    "2. Ahora transforma los datos númericos para que sean de type(int) o type(float) en lugar de string \n",
    "3. Con esos datos, genera un dataframe.\n",
    "4. Crea una nueva columna en donde conviertas el precio en pesos a dólares (1 dólar=20 pesos).\n",
    "5. Guarda el dataframe en un archivo csv.\n",
    "6. Usando BS4, crea una manera de acceder a las siguientes 2 páginas del departamento en donde te encuentres. (Mercadolibre con las mismas variables).\n",
    "7. Scrappea las 3 páginas para tener una lista más grande.\n",
    "8. Nuevamente transforma los datos numéricos para que sean int o float en lugar de string.\n",
    "9. Genera un dataframe.\n",
    "10. Crea una nueva columna en donde conviertas el precio de pesos a dólares (1 dólar=20 pesos).\n",
    "11. Muestra un histograma de la distribución de los precios de celulares.\n",
    "\n",
    "\n",
    "        "
   ]
  },
  {
   "cell_type": "code",
   "execution_count": 95,
   "metadata": {},
   "outputs": [],
   "source": [
    "#importing what is neccesary"
   ]
  },
  {
   "cell_type": "code",
   "execution_count": 1,
   "metadata": {},
   "outputs": [],
   "source": [
    "from bs4 import BeautifulSoup\n",
    "import pandas as pd\n",
    "import requests\n",
    "import numpy as np"
   ]
  },
  {
   "cell_type": "code",
   "execution_count": 2,
   "metadata": {},
   "outputs": [],
   "source": [
    "#i made this function to take the data i need from one page\n",
    "def soupByPage(page):\n",
    "    \n",
    "    souped_page = BeautifulSoup(requests.get(start_page).text, \"lxml\")\n",
    "    items_raw = souped_page.find_all('li', class_='results-item')\n",
    "    \n",
    "    products_names = []\n",
    "    products_prices = []\n",
    "    products_installment_prices = []\n",
    "    products_free_shipment = []\n",
    "    \n",
    "    for index,item in enumerate(items_raw):\n",
    "        \n",
    "        #get the name of the product\n",
    "        name = item.find('span',class_='main-title').get_text().strip()\n",
    "        #get the price\n",
    "        price = float(item.find('span',class_='price__fraction').get_text().replace(\",\",\"\"))\n",
    "        \n",
    "        #get the monthly payment if available\n",
    "        installment_price_raw = item.find('span',class_='item-installments-price')\n",
    "        if installment_price_raw != None:\n",
    "            installment_price = float(installment_price_raw.get_text().replace(\"$\",\"\").replace(\",\",\"\").strip().replace(\" \",\".\"))\n",
    "        else:\n",
    "            installment_price = np.nan\n",
    "        \n",
    "        #get if the product has free shipment\n",
    "        free_shipment_raw = item.find('span',class_='stack-item-info')\n",
    "        if free_shipment_raw != None:\n",
    "            free_shipment = True\n",
    "        else:\n",
    "            free_shipment = False\n",
    "        \n",
    "        products_names.append(name)\n",
    "        products_prices.append(price)\n",
    "        products_installment_prices.append(installment_price)\n",
    "        products_free_shipment.append(free_shipment)\n",
    "        \n",
    "    items = {\"product_name\":products_names,\n",
    "            \"product_price\":products_prices,\n",
    "            \"product_installment_price\":products_installment_prices,\n",
    "            \"product_free_shipment\":products_free_shipment}\n",
    "    \n",
    "    items_dataframe = pd.DataFrame(items)\n",
    "    \n",
    "    return items_dataframe\n",
    "\n"
   ]
  },
  {
   "cell_type": "code",
   "execution_count": 3,
   "metadata": {},
   "outputs": [],
   "source": [
    "#i made this function that what it does is that gets the next page link of the page given\n",
    "def soupNextPage(current_page):\n",
    "    souped_page = BeautifulSoup(requests.get(current_page).text, \"lxml\")\n",
    "    links_raw = souped_page.find_all('a',class_=\"andes-pagination__link\")\n",
    "    all_links = [link.attrs.get(\"href\").strip() for link in links_raw]\n",
    "    return all_links[len(all_links) - 1]\n"
   ]
  },
  {
   "cell_type": "code",
   "execution_count": 4,
   "metadata": {},
   "outputs": [],
   "source": [
    "#this function gets the first page then it loops if it has other pages to scan gets the next page from 'soupNextPage' and then\n",
    "#concatenates the dataframes for some reason i coudnt know append dint work \n",
    "def soupPages(start_page,pages):\n",
    "    pages_dataframe = soupByPage(start_page)\n",
    "    next_page = soupNextPage(start_page)\n",
    "    x = 1\n",
    "    while x < pages:\n",
    "        items_dataframe = soupByPage(next_page)\n",
    "        pages_dataframe = pd.concat([pages_dataframe,items_dataframe])\n",
    "        next_page = soupNextPage(next_page)\n",
    "        x = x + 1\n",
    "        \n",
    "    return pages_dataframe"
   ]
  },
  {
   "cell_type": "code",
   "execution_count": 5,
   "metadata": {},
   "outputs": [],
   "source": [
    "#execute the task\n",
    "start_page = 'https://celulares.mercadolibre.com.mx/#menu=categories'\n",
    "pages_dataframe = soupPages(start_page,5) #dont forget to type how many pages you want\n",
    "\n",
    "#since append dint work i just reindexed the dataframe\n",
    "pages_dataframe.index = range(len(pages_dataframe))\n",
    "#convert to usd and add to column\n",
    "pages_dataframe['product_price_usd'] = pages_dataframe['product_price'] / 20\n"
   ]
  },
  {
   "cell_type": "code",
   "execution_count": 6,
   "metadata": {},
   "outputs": [
    {
     "data": {
      "text/html": [
       "<div>\n",
       "<style scoped>\n",
       "    .dataframe tbody tr th:only-of-type {\n",
       "        vertical-align: middle;\n",
       "    }\n",
       "\n",
       "    .dataframe tbody tr th {\n",
       "        vertical-align: top;\n",
       "    }\n",
       "\n",
       "    .dataframe thead th {\n",
       "        text-align: right;\n",
       "    }\n",
       "</style>\n",
       "<table border=\"1\" class=\"dataframe\">\n",
       "  <thead>\n",
       "    <tr style=\"text-align: right;\">\n",
       "      <th></th>\n",
       "      <th>product_name</th>\n",
       "      <th>product_price</th>\n",
       "      <th>product_installment_price</th>\n",
       "      <th>product_free_shipment</th>\n",
       "      <th>product_price_usd</th>\n",
       "    </tr>\n",
       "  </thead>\n",
       "  <tbody>\n",
       "    <tr>\n",
       "      <th>0</th>\n",
       "      <td>Xiaomi Redmi Note 8 Dual SIM 64 GB Neptune blu...</td>\n",
       "      <td>3861.0</td>\n",
       "      <td>321.74</td>\n",
       "      <td>True</td>\n",
       "      <td>193.05</td>\n",
       "    </tr>\n",
       "    <tr>\n",
       "      <th>1</th>\n",
       "      <td>Motorola One 64 GB Blanco 4 GB RAM</td>\n",
       "      <td>3798.0</td>\n",
       "      <td>316.50</td>\n",
       "      <td>True</td>\n",
       "      <td>189.90</td>\n",
       "    </tr>\n",
       "    <tr>\n",
       "      <th>2</th>\n",
       "      <td>Motorola G8 Plus 64 GB Cosmic blue 4 GB RAM</td>\n",
       "      <td>5794.0</td>\n",
       "      <td>482.83</td>\n",
       "      <td>True</td>\n",
       "      <td>289.70</td>\n",
       "    </tr>\n",
       "    <tr>\n",
       "      <th>3</th>\n",
       "      <td>Apple iPhone 7 32 GB Negro mate 2 GB RAM</td>\n",
       "      <td>5309.0</td>\n",
       "      <td>442.43</td>\n",
       "      <td>True</td>\n",
       "      <td>265.45</td>\n",
       "    </tr>\n",
       "    <tr>\n",
       "      <th>4</th>\n",
       "      <td>Huawei P30 Lite Dual SIM 128 GB Peacock blue 4...</td>\n",
       "      <td>5169.0</td>\n",
       "      <td>510.65</td>\n",
       "      <td>True</td>\n",
       "      <td>258.45</td>\n",
       "    </tr>\n",
       "    <tr>\n",
       "      <th>...</th>\n",
       "      <td>...</td>\n",
       "      <td>...</td>\n",
       "      <td>...</td>\n",
       "      <td>...</td>\n",
       "      <td>...</td>\n",
       "    </tr>\n",
       "    <tr>\n",
       "      <th>266</th>\n",
       "      <td>Motorola G7 Plus 64 GB Índigo 4 GB RAM</td>\n",
       "      <td>4259.0</td>\n",
       "      <td>354.92</td>\n",
       "      <td>True</td>\n",
       "      <td>212.95</td>\n",
       "    </tr>\n",
       "    <tr>\n",
       "      <th>267</th>\n",
       "      <td>Huawei Y7 2019 Dual SIM 32 GB Negro medianoche...</td>\n",
       "      <td>3549.0</td>\n",
       "      <td>295.75</td>\n",
       "      <td>True</td>\n",
       "      <td>177.45</td>\n",
       "    </tr>\n",
       "    <tr>\n",
       "      <th>268</th>\n",
       "      <td>Motorola One One Action Dual SIM 128 GB Denim ...</td>\n",
       "      <td>5220.0</td>\n",
       "      <td>435.00</td>\n",
       "      <td>True</td>\n",
       "      <td>261.00</td>\n",
       "    </tr>\n",
       "    <tr>\n",
       "      <th>269</th>\n",
       "      <td>Apple iPhone X 256 GB Gris espacial</td>\n",
       "      <td>12449.0</td>\n",
       "      <td>1037.00</td>\n",
       "      <td>True</td>\n",
       "      <td>622.45</td>\n",
       "    </tr>\n",
       "    <tr>\n",
       "      <th>270</th>\n",
       "      <td>Motorola E5 Play (Go Edition) 16 GB Negro 1 GB...</td>\n",
       "      <td>1969.0</td>\n",
       "      <td>164.08</td>\n",
       "      <td>True</td>\n",
       "      <td>98.45</td>\n",
       "    </tr>\n",
       "  </tbody>\n",
       "</table>\n",
       "<p>271 rows × 5 columns</p>\n",
       "</div>"
      ],
      "text/plain": [
       "                                          product_name  product_price  \\\n",
       "0    Xiaomi Redmi Note 8 Dual SIM 64 GB Neptune blu...         3861.0   \n",
       "1                   Motorola One 64 GB Blanco 4 GB RAM         3798.0   \n",
       "2          Motorola G8 Plus 64 GB Cosmic blue 4 GB RAM         5794.0   \n",
       "3             Apple iPhone 7 32 GB Negro mate 2 GB RAM         5309.0   \n",
       "4    Huawei P30 Lite Dual SIM 128 GB Peacock blue 4...         5169.0   \n",
       "..                                                 ...            ...   \n",
       "266             Motorola G7 Plus 64 GB Índigo 4 GB RAM         4259.0   \n",
       "267  Huawei Y7 2019 Dual SIM 32 GB Negro medianoche...         3549.0   \n",
       "268  Motorola One One Action Dual SIM 128 GB Denim ...         5220.0   \n",
       "269                Apple iPhone X 256 GB Gris espacial        12449.0   \n",
       "270  Motorola E5 Play (Go Edition) 16 GB Negro 1 GB...         1969.0   \n",
       "\n",
       "     product_installment_price  product_free_shipment  product_price_usd  \n",
       "0                       321.74                   True             193.05  \n",
       "1                       316.50                   True             189.90  \n",
       "2                       482.83                   True             289.70  \n",
       "3                       442.43                   True             265.45  \n",
       "4                       510.65                   True             258.45  \n",
       "..                         ...                    ...                ...  \n",
       "266                     354.92                   True             212.95  \n",
       "267                     295.75                   True             177.45  \n",
       "268                     435.00                   True             261.00  \n",
       "269                    1037.00                   True             622.45  \n",
       "270                     164.08                   True              98.45  \n",
       "\n",
       "[271 rows x 5 columns]"
      ]
     },
     "execution_count": 6,
     "metadata": {},
     "output_type": "execute_result"
    }
   ],
   "source": [
    "pages_dataframe"
   ]
  },
  {
   "cell_type": "code",
   "execution_count": 7,
   "metadata": {},
   "outputs": [
    {
     "data": {
      "text/plain": [
       "<matplotlib.axes._subplots.AxesSubplot at 0x1ebc3a85e08>"
      ]
     },
     "execution_count": 7,
     "metadata": {},
     "output_type": "execute_result"
    },
    {
     "data": {
      "image/png": "[encoded data removed]",
      "text/plain": [
       "<Figure size 432x288 with 1 Axes>"
      ]
     },
     "metadata": {
      "needs_background": "light"
     },
     "output_type": "display_data"
    }
   ],
   "source": [
    "#of course i had to google this how to get distribution histograms on python interesting excercice\n",
    "import matplotlib.pyplot as plt\n",
    "import seaborn as sns\n",
    "sns.distplot(pages_dataframe['product_price'])"
   ]
  },
  {
   "cell_type": "code",
   "execution_count": null,
   "metadata": {},
   "outputs": [],
   "source": []
  },
  {
   "cell_type": "code",
   "execution_count": null,
   "metadata": {},
   "outputs": [],
   "source": []
  }
 ],
 "metadata": {
  "kernelspec": {
   "display_name": "Python 3",
   "language": "python",
   "name": "python3"
  },
  "language_info": {
   "codemirror_mode": {
    "name": "ipython",
    "version": 3
   },
   "file_extension": ".py",
   "mimetype": "text/x-python",
   "name": "python",
   "nbconvert_exporter": "python",
   "pygments_lexer": "ipython3",
   "version": "3.7.6"
  }
 },
 "nbformat": 4,
 "nbformat_minor": 4
}
