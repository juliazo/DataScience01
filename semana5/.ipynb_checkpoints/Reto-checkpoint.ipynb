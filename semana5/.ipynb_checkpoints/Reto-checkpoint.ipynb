{
 "cells": [
  {
   "cell_type": "code",
   "execution_count": 1,
   "metadata": {},
   "outputs": [
    {
     "ename": "SyntaxError",
     "evalue": "invalid syntax (<ipython-input-1-b3ce4f05daed>, line 2)",
     "output_type": "error",
     "traceback": [
      "\u001b[1;36m  File \u001b[1;32m\"<ipython-input-1-b3ce4f05daed>\"\u001b[1;36m, line \u001b[1;32m2\u001b[0m\n\u001b[1;33m    1. Ahora repite el reto usando Scrapy: (Nombre del producto, Precio, Precio de descuento, número de ventas)\u001b[0m\n\u001b[1;37m           ^\u001b[0m\n\u001b[1;31mSyntaxError\u001b[0m\u001b[1;31m:\u001b[0m invalid syntax\n"
     ]
    }
   ],
   "source": [
    "# Reto\n",
    "1. Ahora repite el reto usando Scrapy: (Nombre del producto, Precio, Precio de descuento, número de ventas)\n",
    "2. Usa los selectores que gustes\n",
    "3. Exporta el archivo a csv\n",
    "4. Importa el archivo csv a tu libreta de jupyter.\n",
    "\n",
    "from datetime import date\n",
    "def getExchange():\n",
    "    page_banamex = \"https://www.banamex.com/economia-finanzas/es/mercado-de-divisas/index.html\"\n",
    "    print (page_banamex)\n",
    "    dof_souped = BeautifulSoup(requests.get(page_banamex).text, \"lxml\")\n",
    "    lista = dof_souped.find_all('div', id_='txt')\n",
    "    print(lista)\n",
    "    \n",
    "getExchange()\n",
    "\n",
    "# Otros sitios Scrapping\n",
    "Aeropuerto Ciudad de México\n",
    "\n",
    "http://www.ift.org.mx  (Para descargar datos ya hecho)\n",
    "\n",
    "Despegar.com.mx\n",
    "\n",
    "Trivago.com.mx\n",
    "\n",
    "Coneval (Datos procesados)\n",
    "\n",
    "http://premio.ceneval.edu.mx/premio_egel/index.jsf (Scrappear texto limpio y filtrado)\n",
    "\n",
    "VivaAerobus.com\n"
   ]
  },
  {
   "cell_type": "code",
   "execution_count": null,
   "metadata": {},
   "outputs": [],
   "source": []
  }
 ],
 "metadata": {
  "kernelspec": {
   "display_name": "Python 3",
   "language": "python",
   "name": "python3"
  },
  "language_info": {
   "codemirror_mode": {
    "name": "ipython",
    "version": 3
   },
   "file_extension": ".py",
   "mimetype": "text/x-python",
   "name": "python",
   "nbconvert_exporter": "python",
   "pygments_lexer": "ipython3",
   "version": "3.7.6"
  }
 },
 "nbformat": 4,
 "nbformat_minor": 4
}
