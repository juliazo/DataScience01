{
 "cells": [
  {
   "cell_type": "markdown",
   "metadata": {},
   "source": [
    "## Práctica de filtrado\n",
    "1.  Hagan un código que regrese la primera letra de cada palabra en una lista. (Output es una lista de las primeras letras).\n",
    "2.  Hagan un código que regrese solamente las palábras con 5 letras o menos de una lista.\n",
    "3.  Hagan un código que reciba una lista de precios en pesos y los convierta en dólares (Asumir que 20 pesos = 1 dólar).\n",
    "4.  Si hicieron lo anterior con una función map, reduce o filter; hagan una comprensión.\n"
   ]
  },
  {
   "cell_type": "markdown",
   "metadata": {},
   "source": [
    "### Ejercicio 1"
   ]
  },
  {
   "cell_type": "code",
   "execution_count": 1,
   "metadata": {},
   "outputs": [
    {
     "name": "stdout",
     "output_type": "stream",
     "text": [
      "El resultado con comprension de listas es ['U', 'D', 'T', 'C', 'C', 'S', 'S', 'O', 'N', 'D']\n",
      "El resultado con map es ['U', 'D', 'T', 'C', 'C', 'S', 'S', 'O', 'N', 'D']\n"
     ]
    }
   ],
   "source": [
    "palabras = [\"Uno\",\"Dos\",\"Tres\",\"Cuatro\",\"Cinco\",\"Seis\",\"Siete\",\"Ocho\",\"Nueve\",\"Diez\"]\n",
    "#comprension\n",
    "primeras_letras_comp = [palabra[0] for palabra in palabras]\n",
    "print (\"El resultado con comprension de listas es\",primeras_letras_comp)\n",
    "#map\n",
    "primeras_letras_map = list(map(lambda palabra: palabra[0],palabras))\n",
    "print (\"El resultado con map es\",primeras_letras_comp)"
   ]
  },
  {
   "cell_type": "markdown",
   "metadata": {},
   "source": [
    "### Ejercicio 2"
   ]
  },
  {
   "cell_type": "code",
   "execution_count": 2,
   "metadata": {},
   "outputs": [
    {
     "name": "stdout",
     "output_type": "stream",
     "text": [
      "El resultado con comprension de listas es ['Uno', 'Once', 'Dos', 'Doce', 'Tres', 'Trece', 'Seis']\n",
      "El resultado con filter es ['Uno', 'Once', 'Dos', 'Doce', 'Tres', 'Trece', 'Seis']\n"
     ]
    }
   ],
   "source": [
    "palabras = [\"Uno\",\"Once\",\"Dos\",\"Doce\",\"Tres\",\"Trece\",\"Cuatro\",\"Catorse\",\"Seis\",\"Dieciseis\"]\n",
    "#comprension\n",
    "palabras_decinco_comp = [palabra for palabra in palabras if len(palabra) <= 5]\n",
    "print (\"El resultado con comprension de listas es\",palabras_decinco_comp)\n",
    "#filter\n",
    "palabras_decinco_filter = list(filter(lambda palabra: len(palabra)<=5,palabras))\n",
    "print (\"El resultado con filter es\",palabras_decinco_filter)"
   ]
  },
  {
   "cell_type": "markdown",
   "metadata": {},
   "source": [
    "### Ejercicio 3"
   ]
  },
  {
   "cell_type": "code",
   "execution_count": 3,
   "metadata": {},
   "outputs": [
    {
     "name": "stdout",
     "output_type": "stream",
     "text": [
      "El resultado con comprension de listas es [610.0, 436.4, 709.0]\n",
      "El resultado con map es [610.0, 436.4, 709.0]\n"
     ]
    }
   ],
   "source": [
    "precios = [30.50,21.82,35.45]\n",
    "#comprension\n",
    "usd_mxn = 20.0\n",
    "precios_convertidos_comp = [precio * usd_mxn for precio in precios]\n",
    "print (\"El resultado con comprension de listas es\",precios_convertidos_comp)\n",
    "#map\n",
    "precios_convertidos_map = list(map(lambda precio: precio*usd_mxn ,precios))\n",
    "print (\"El resultado con map es\",precios_convertidos_comp)"
   ]
  },
  {
   "cell_type": "code",
   "execution_count": null,
   "metadata": {},
   "outputs": [],
   "source": []
  }
 ],
 "metadata": {
  "kernelspec": {
   "display_name": "Python 3",
   "language": "python",
   "name": "python3"
  },
  "language_info": {
   "codemirror_mode": {
    "name": "ipython",
    "version": 3
   },
   "file_extension": ".py",
   "mimetype": "text/x-python",
   "name": "python",
   "nbconvert_exporter": "python",
   "pygments_lexer": "ipython3",
   "version": "3.7.6"
  }
 },
 "nbformat": 4,
 "nbformat_minor": 4
}
