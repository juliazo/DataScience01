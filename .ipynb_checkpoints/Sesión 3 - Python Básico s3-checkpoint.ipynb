{
 "cells": [
  {
   "cell_type": "markdown",
   "metadata": {},
   "source": [
    "# Proyecto - La Divina comedia\n",
    "## 1. Antes de empezar\n",
    "- Planea tu código: Antes de escribir código debemos sentarnos, pensar que hacer, hacer un plan (se le llama pseudocódigo) y luego ya tienes permiso de escribir código. \n",
    "- ¿No se que hacer? Google it! Seguramente en internet tiene seguramente las respuesta\n",
    "- Divide y conquistaras: trabaja segmentando el código en celdas y revisa que cada acción importante se realice la manera correcta\n",
    "- Si crees que usaras recurrentemente la sección de código que hace algo, sería conveniente hacer una función ¿no? \n",
    "\n",
    "\n",
    "## 2. Descripción \n",
    "\n",
    "Para este ejemplo usaremos del texto en ingles de *La Divina Comedia* escrita por Dante Alighieri y fue descargado desde *Project Gutenberg* con nombre **8800.txt**. Existen muchas maneras de realizar este ejercicio, no te preocupes por lo que hacen los demas. Realiza mediante comandos, no uses funciones hasta que se te pida. \n",
    "\n",
    "\n",
    "**Preguntas**\n",
    "\n",
    "\n",
    "- ¿Cuántas palabras existen en los primeros 5,000 caracteres? \n",
    "- ¿Cuántas palabras únicas existen en el mismo rango? \n",
    "- ¿Importan las mayúsculas y minúsculas? \n",
    "- ¿Cuántas veces aparece la palabra **the** en ese rango? \n",
    "- ¿Puedo saber cuantas veces existe una palabra en el texto cargado? \n",
    "- Crea un diccionario donde asignes el número de apariciones a la palabra existente\n",
    "- ¿Qué pasa con los signos de puntuación, es decir, 'me', 'me;', 'me.', 'me?' y 'me,' son iguales? \n",
    "    - ¿Cuáles existen? ¿Estan todos en la misma posición? \n",
    "- Elimina los signos de puntuación y realiza el mismo ejercicio \n",
    "\n",
    "\n",
    "Ahora crea funciones para realizar las mismas preguntas y usalas para analizar el texto completo (todo un reto). \n",
    "\n",
    "## 3. Comparación de resultados y métodos\n",
    "\n",
    "¡Comparemos la lógica de sus códigos! Nadie piensa igual y la diversidad nos permite encontrar mejores soluciones mediante el diálogo. \n"
   ]
  },
  {
   "cell_type": "markdown",
   "metadata": {},
   "source": [
    "## 4. ¿Quieren más? - Recursos de apoyo \n",
    "\n",
    "- Platarformas: EDX, Coursera, Udemy, DataCamp\n",
    "- Empresas: IBM, Microsoft\n",
    "- Millones de páginas web \n",
    "- Cientos de libros (como los que ya les pasamos) "
   ]
  },
  {
   "cell_type": "code",
   "execution_count": 3,
   "metadata": {},
   "outputs": [],
   "source": [
    "#1.Cuantas palabras existen"
   ]
  },
  {
   "cell_type": "code",
   "execution_count": 32,
   "metadata": {},
   "outputs": [
    {
     "name": "stdout",
     "output_type": "stream",
     "text": [
      "1206\n",
      "Los primeros 5000 caracteres del texto son 795 \"palabras\"\n"
     ]
    }
   ],
   "source": [
    "#we have to open the file first\n",
    "filename = \"8800.txt\"\n",
    "eldanteriendose = open(filename, \"r\")\n",
    "#asign the file contents to a variable\n",
    "eldante = eldanteriendose.read()\n",
    "#find the word \n",
    "beginning = eldante.find('His glory')\n",
    "end = beginning + 5000\n",
    "#find the first 5000 chars\n",
    "print (beginning)\n",
    "content = eldante[beginning:end]\n",
    "#how many words, split by space?\n",
    "words = content.split(\" \")\n",
    "#count the list\n",
    "words_count = len(words)\n",
    "print ('Los primeros 5000 caracteres del texto son {} \"palabras\"'.format(words_count)) #ya me gusto el format :)\n",
    "\n"
   ]
  },
  {
   "cell_type": "code",
   "execution_count": 19,
   "metadata": {},
   "outputs": [],
   "source": [
    "#2.Cuantas palabras unicas existen en el mismo rango"
   ]
  },
  {
   "cell_type": "code",
   "execution_count": 35,
   "metadata": {
    "scrolled": true
   },
   "outputs": [
    {
     "name": "stdout",
     "output_type": "stream",
     "text": [
      "Existen 496 \"palabras\" unicas\n",
      "['', 'stood', 'deep,', 'thee', 'there,\\nHere', 'another', 'sound,\\nAnd', 'realm\\nCould', 'more', 'admire\\nHow', 'form,', 'troubled', 'high', 'second', 'off.\\nThou', 'bard', 'calm', 'resplendence,', 'more,\\nSome', 'were', 'brute', 'natures', 'worth,\\nAs', 'now', 'eternal', 'creatures', 'In', 'wheels,\\nBeatrice', 'eyes,', 'much,\\nThat', 'wax', 'view,\\nThou', 'far', 'diversely,', 'I,\\nWitness', \"suffer'd\", \"charm'd\", 'lighter', 'partakes,', 'bow;', \"pow'r;\", 'Love!', 'hearts', 'sun', 'my', \"turn'd,\", 'pray,', 'at', 'drawn.', 'or', '\"Among', 'fire.\\nAnd', 'ear,\\nThen', 'creatures,', 'whom', 'order,', 'rain', \"harmony\\nTemper'd\", 'desire\\nOur', 'act,', 'power', 'claims', \"e'er\", 'each', 'a', 'entangled', 'made', 'me', 'passages,', 'higher', 'vessel', \"measur'd,\", 'intellige', \"place\\nNe'er\", 'when', 'honour', 'instinct', 'must', 'approaching', 'less', 'accompanied', 'us', 'made\\nA', 'transhuman', 'order;', 'who', 'through', 'frenzied', 'worldly', 'impression.', \"ask'd,\\nOpen'd\", 'eyesight', 'god', 'dull,', 'return\\'d.\"\\n\\nAlthough', \"rise,\\nE'en\", 'other', 'steep', 'own', 'in', 'mortal', 'on', 'sacred', 'which', 'thy', 'gain\\nFrom', 'issue,', 'aspect,', \"appear'd\\nA\", 'its', 'clearly', 'on\\nThrough', 'grace', 'gracious', 'first', 'havens', 'mortals,', \"light'ning\", 'he,', 'vast', 'The', 'but', \"giv'n,\", 'didst', 'things,', \"absorb'd,\\nThat\", 'hemisphere,\\nBlackness', 'happiest', 'myself,\\nTo', 'earth', 'straight,\\nBeyond', 'behold', 'new', 'relate', 'one', 'Cirrhaean', 'hand', 'God.', 'her', 'allowed', \"form'd;\", 'sun.', 'suddenly', 'after', \"wills\\nDeprav'd)\", 'made;\\nAnd', 'and', 'was', 'From', 'memory', '(more', 'Morning', \"inspir'd.\", 'broad.', 'had', 'limbs', 'even', 'among', 'here', 'Pierian', 'of', \"belov'd.\\nThus\", 'directs', 'light', 'laurel', 'thus', 'newness', 'better', 'me.', 'lamp\\nRises', 'Do', 'art', 'that', 'ran,', 'therefore', 'is', 'part\\nSheds', 'admiration', 'wheel', 'pilgrim', 'hath', 'felt,', 'brief', 'mother', 'great', 'she', 'flame,', 'mighty', 'the', 'sigh,\\nShe', 'beam', 'ken.\\nAs', 'though', 'part;', 'reflected', 'may', '\"Already', 'together', \"remov'd\\nAt\", 'change:\\nAnd', \"dragg'd\\nForth\", 'Much', 'flame', 'false', 'desire,\\nKeener', 'are', 'lips,', 'thoughts', 'prompts', 'henceforth', 'into', 'rise.\"\\n\\nWhence,', 'know', 'child', 'whiteness', 'impart', 'kind\\n\\nI', 'me;', 'thirst', 'weak,\\nFor', 'thou,', 'gathers', 'that,', 'tree\\nCome', \"bedeck'd\", 'crown', 'line', \"utt'rance\", 'bright', 'perchance\\nOthers', 'those', \"fix'd\", 'thence', 'store\\n\\nIf', 'printed', 'example', 'this', \"heav'n\", 'themselves', 'place\\nMade', 'sea', 'as', 'all,\\nThat', 'cross,', 'his', 'threefold', 'yet', 'fast', 'shalt', 'being,', 'blaze\\nWith', 'set\\nHe', 'imagination', 'mine', 'smiles,\\nYet', 'became\\nAs', 'tell', 'forth', 'need', 'upward', 'worth,', 'remaining', 'bears', 'peer', 'circles', 'animals,\\nThis', \"ken\\nFix'd\", 'best\\nCourse,', 'dost', \"believ'st;\\nFor\", 'cause.\\n\\nWhence', 'kind.\\n\\nThrough', 'upwards', 'than', 'began:\\n\"With', \"unsheath'd.\", 'shall', 'be', 'follow.', 'universe,', 'there,\\nThat', \"tow'rds\", 'rest\\nFrom', 'sun\\nGazing,', 'ever', 'Nathless', 'before', 'happy', 'comes', 'knits,', 'theme\\nWill', 'satisfied,', \"aim'd\", 'there', 'All', \"ne'er\", 'steps\\nOf', 'not', 'gives\\nIts', \"favour'd\", 'fancy,', 'seest', 'much', 'spring\\nFrom', 'shame', 'fit', 'around,\\nAs', 'cannot', 'things\\nHave', 'exceeds', 'seldom,', 'elsewhere', 'eyes\\nUpon', 'by', 'saw', 'both\\nFor', 'whose', \"shadow'd\", 'power,\\nHad', 'proof', 'above', \"first-rais'd\", \"form\\nTrac'd\", 'sky.\\n\\nHer', 'human', 'city', 'some', 'song.\\n\\nBenign', 'wont\\nTo', 'with', \"o'erspread\", 'source.\\nThus', \"unmov'd;\", 'largeliest', 'guide,\\nDesired', 'His', 'what', 'ocean', 'different', 'he', 'tasted', 'enterprise', 'such', 'inwardly', 'dwelling', \"rul'd,\\nThou\", 'hast', 'left\\nI', \"inflam'd\", 'said:', 'for', 'course;\\nThis', 'risen:', \"world's\", \"heav'n,\\nThat\", 'thing,\\nWhich', 'myself', 'store,', 'return,\\nSo', 'thanks', 'best', 'might', 'divine!\\nIf', 'bodies', 'long\\nThat', 'hence', 'things', 'sparks', 'piteous', 'boiling', \"new-ris'n,\", \"Parnassus'\", 'voice', \"mov'd,\\nPierces\", 'this\\nThe', 'aid,\\nAnd', \"sun's\", 'been', 'look,\\nAs', 'bear', 'they', 'her,', 'eyes', 'casts;\\nThen', 'spark\\nGreat', 'sphere', 'thou\\nEnter', 'to', 'let', 'so', \"brows\\nSuffic'd\", 'depth', 'those,\\nThat', 'proper', 'light,', 'herb,\\nThat', 'temper', 'words,', 'resemble', 'only', 'doubt,\\nBy', 'hadst', 'primal', 'our', 'create,\\nThen', 'set', 'lunar', 'serve,', 'have', 'me,', 'void', 'from', 'constellation', 'end\\nWhither', 'up.\\nWhenas', 'O', 'triumph', 'comes,', 'thou', 'breathe\\nSo,', 'labour', 'it', 'beheld', \"bick'ring\", 'Beatrice', 'mind,', \"scap'd\", 'long,', 'divested', 'Marsyas', 'small', 'diver', 'foot,', 'less.', 'gaze', 'wont,', 'binds.\\nNor', 'Sire!\\nTo', \"pass'd\\nInto\", \"know'st,\", 'upon', 'lean,\\nIn', 'doubt', 'realm', 'Spirit!', 'If', 'one\\nWith', 'last', 'shaken', 'matter', 'almost', 'began:', 'near', \"mov'd\", 'eagle', 'thence;\\nFor', 'their', 'Apollo!', 'seen,', 'iron', \"thyself\\nMak'st\", \"seem'd\", 'eve', 'flood', 'answer', 'see', 'joy', 'all', 'day', 'him', 'intellect', 'Delphic', 'intellect,\\nAre', 'shine', 'joins\\nFour', 'hither', 'fire,\\nThis', 'more,\\nAnd', 'breast\\nIs', 'make', 'newly,', 'universe', 'bent', 'glory,', 'Glaucus,', 'never', 'wreath\\nCaesar', 'foliage,', 'makes\\nThe', 'I', 'again\\nSurpasseth', 'gods;\\nWords', 'lake', 'leaves;\\nFor', 'bosom,', 'passage']\n"
     ]
    }
   ],
   "source": [
    "unique_words = list(set(words))\n",
    "print ('Existen {} \"palabras\" unicas'.format(len(unique_words)))"
   ]
  },
  {
   "cell_type": "markdown",
   "metadata": {},
   "source": []
  },
  {
   "cell_type": "code",
   "execution_count": 36,
   "metadata": {},
   "outputs": [
    {
     "name": "stdout",
     "output_type": "stream",
     "text": [
      "Existen 490 \"palabras\" unicas en mayusculas\n",
      "Existen 490 \"palabras\" unicas en minusculas\n"
     ]
    }
   ],
   "source": [
    "#mayusculas\n",
    "unique_words_caps = list(set([x.upper() for x in unique_words]))\n",
    "print ('Existen {} \"palabras\" unicas en mayusculas'.format(len(unique_words_caps)))\n",
    "\n",
    "#3-2.Todas en minusculas\n",
    "unique_words_lower = list(set([x.lower() for x in unique_words]))\n",
    "print ('Existen {} \"palabras\" unicas en minusculas'.format(len(unique_words_lower)))\n"
   ]
  },
  {
   "cell_type": "code",
   "execution_count": 51,
   "metadata": {},
   "outputs": [
    {
     "name": "stdout",
     "output_type": "stream",
     "text": [
      "la palabra 'the' se encuentra 1 veces\n"
     ]
    }
   ],
   "source": [
    "#4 cuantas veces aparece la palabra the\n",
    "timesthe = words.count(\"the\")\n",
    "print(\"la palabra 'the' se encuentra {} veces\".format(timesthe))\n"
   ]
  },
  {
   "cell_type": "code",
   "execution_count": 50,
   "metadata": {},
   "outputs": [
    {
     "name": "stdout",
     "output_type": "stream",
     "text": [
      "Ingresa una palabra a buscar:THE\n",
      "la palabra THE se encuentra 42 veces\n"
     ]
    }
   ],
   "source": [
    "#5 saber cuantas veces se encuentra una palabra x en el texto cargado\n",
    "#to look for any word i am going to convert all to lower\n",
    "words_lower = [x.lower() for x in words]\n",
    "wordtolook = input(\"Ingresa una palabra a buscar:\")\n",
    "#look for input in lower\n",
    "timeswordtolook = words_lower.count(wordtolook.lower())\n",
    "print(\"la palabra {} se encuentra {} veces\".format(wordtolook,timeswordtolook))\n"
   ]
  },
  {
   "cell_type": "code",
   "execution_count": 132,
   "metadata": {},
   "outputs": [],
   "source": [
    "#thank god for list comprehension\n",
    "#this took me some time to understand a lot of websites but it can be done in just one line \n",
    "#6.-Hacer un dictionario con la palabra y cuantas veces aparece en el texto\n",
    "dictionary_ocurrencies = {words_lower[index]:words_lower.count(words_lower[index]) for index in range(len(words_lower))} \n",
    "#it looks wrong not being alphabetical\n",
    "dictionary_ocurrencies_words = sorted(dictionary_ocurrencies.keys())\n",
    "dictionary_ocurrencies_az = {word:dictionary_ocurrencies[word] for word in dictionary_ocurrencies_words}\n",
    "\n",
    "#the cleaning of the text i am doing it in the part below as part of the exam and i am sorry i dint did the exercice of verifying the me: me; etc... "
   ]
  },
  {
   "cell_type": "markdown",
   "metadata": {},
   "source": [
    "Ahora voy a hacer una clase en el construct voy a recibir el nombre de un archivo lo voy a procesar, limpiar convertir la lista en minusculas y despues hacer el diccionario con esa lista el cual a traves de unos metodos podremos darle funcionalidad para tener los datos que deseamos:"
   ]
  },
  {
   "cell_type": "markdown",
   "metadata": {},
   "source": [
    "# Asignment (the divine comedy data analysis)\n",
    "\n",
    "The problem is that for class we need to study a textfile and try to analize it so we can get different data such as how many times a word exists in the text , how many words in total and how many words without repeating are in the text.\n",
    "\n",
    "For this asignment i am going to create a class to recieve any file and process it so the data is always available to the user.\n",
    "After creating the class i am going to make a small program to create the desired functionality"
   ]
  },
  {
   "cell_type": "code",
   "execution_count": null,
   "metadata": {},
   "outputs": [],
   "source": [
    "from IPython.display import clear_output\n",
    "\n",
    "#function to depurate text\n",
    "def depurateText(text):\n",
    "    nosymbols = text\n",
    "    symbols = [\".\",\",\",\"!\",\":\",\";\",\"(\",\")\",\"{\",\"}\",'\"',]\n",
    "    for symbol in symbols:\n",
    "        nosymbols = nosymbols.replace(symbol,\"\")\n",
    "    finaltext = nosymbols.replace(\"\\n\",\" \")\n",
    "    return finaltext\n",
    "\n",
    "#class TexData\n",
    "#__init__:\n",
    "#returns self.words (list of words after depuration), self.words_count (int of how many words)\n",
    "#createDictionary:\n",
    "#returns self.dictionary (dictionary indexed with words and ocurrencies as values ordered alphabetically)\n",
    "class TextData:\n",
    "    def __init__(self,filename,chars,sentencetostart = None):\n",
    "        try:\n",
    "            num_chars = int(chars)\n",
    "            valid = 1\n",
    "        except ValueError:\n",
    "            print (\"La cantidad de caracteres debe ser un numero.\")\n",
    "        \n",
    "        if valid == 1:\n",
    "            file = open(filename, \"r\")\n",
    "            text = file.read()\n",
    "            if sentencetostart:\n",
    "                beggining = text.find(sentencetostart)\n",
    "            else:\n",
    "                beggining = 1\n",
    "            end = beggining + chars\n",
    "            text_toanalize = text[beggining:end]\n",
    "            text_depurated = depurateText(text_toanalize)\n",
    "            words_list = text_depurated.split(\" \")\n",
    "            self.words = [word.lower() for word in words_list]\n",
    "            self.words_count = len(self.words)\n",
    "    \n",
    "    def createDictionary(self):\n",
    "        dictionary_ocurrencies = {self.words[index]:self.words.count(self.words[index]) for index in range(len(self.words))}\n",
    "        dictionary_ocurrencies_words = sorted(dictionary_ocurrencies.keys())\n",
    "        self.dictionary = {word:dictionary_ocurrencies[word] for word in dictionary_ocurrencies_words}\n",
    "        del self.dictionary['']\n",
    "\n",
    "#function that provides functionality to the class\n",
    "def initiate():\n",
    "    clear_output()\n",
    "    d = TextData(\"8800.txt\",5000,\"His glory\")\n",
    "    d.createDictionary()\n",
    "    \n",
    "    #intro\n",
    "    print(\"Hola esta es la tarea de la tercer semana del Data Science Mastery Program de CeroUno\")\n",
    "    print(\"by:<julio ontiveros> davincy@gmail.com\")\n",
    "    print(\"******************************************************************************************************************\")\n",
    "    print(\"En el texto analizado encontramos un total de {} palabras\".format(d.words_count))\n",
    "    print(\"Para ver la lista de todas las palabras del texto inserte 1\")\n",
    "    print(\"------------------------------------------------------------------------------------------------------------------\")\n",
    "    print(\"En el texto analizado encontramos un total de {} palabras unicas\".format(len(d.dictionary)))\n",
    "    print(\"Para ver la lista de todas las palabras unicas y las veces que aparece en el texto inserte 2\")\n",
    "    print(\"------------------------------------------------------------------------------------------------------------------\")\n",
    "    print(\"Ingrese cualquier palabra para buscar en el texto\")\n",
    "    print(\"Ingrese X para salir\")\n",
    "    print(\"------------------------------------------------------------------------------------------------------------------\")\n",
    "    option = input(\"Ingresar opcion :\")\n",
    "    print(\". . . . . . . . . . . . . . . . . . . . . . . . . . . . . . . . . . . . . . . . . . . . . . . . . . . . . . . . .\")\n",
    "    if option.lower() == 'x':\n",
    "        print (\"Gracias.\")\n",
    "    elif option.lower() == '':\n",
    "        print (\"Intente de nuevo\")\n",
    "    elif isinstance(option.lower(),str):\n",
    "        if option.lower() in d.dictionary:\n",
    "            print(\"La palabra {} se encuentra {} veces\".format(option.lower(),d.dictionary[option.lower()]))\n",
    "        else:\n",
    "            print(\"{} no se encuentra\".format(option.lower()))\n",
    "        input(\"Ingrese enter para continuar\")\n",
    "        initiate()\n",
    "    elif int(option) == 1:\n",
    "        print (d.words)\n",
    "        input(\"Ingrese enter para continuar\")\n",
    "        initiate()\n",
    "    elif int(option) == 2:\n",
    "        for word,times in d.dictionary.items():\n",
    "            print(\"palabra:{}, veces:{}\".format(word,times))\n",
    "        input(\"Ingrese enter para continuar\")\n",
    "        initiate()\n",
    "    else:\n",
    "        initiate()\n",
    "\n",
    "#initiate\n",
    "initiate()"
   ]
  },
  {
   "cell_type": "code",
   "execution_count": null,
   "metadata": {},
   "outputs": [],
   "source": []
  },
  {
   "cell_type": "code",
   "execution_count": null,
   "metadata": {},
   "outputs": [],
   "source": []
  }
 ],
 "metadata": {
  "kernelspec": {
   "display_name": "Python 3",
   "language": "python",
   "name": "python3"
  },
  "language_info": {
   "codemirror_mode": {
    "name": "ipython",
    "version": 3
   },
   "file_extension": ".py",
   "mimetype": "text/x-python",
   "name": "python",
   "nbconvert_exporter": "python",
   "pygments_lexer": "ipython3",
   "version": "3.7.6"
  }
 },
 "nbformat": 4,
 "nbformat_minor": 2
}
