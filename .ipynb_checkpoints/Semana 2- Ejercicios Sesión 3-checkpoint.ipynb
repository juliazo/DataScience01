{
 "cells": [
  {
   "cell_type": "markdown",
   "metadata": {},
   "source": [
    "## Ejercicios Sesión 3"
   ]
  },
  {
   "cell_type": "markdown",
   "metadata": {},
   "source": [
    "1. Escribe un script que tome un número ingresado por el usuario e imprima si es positivo, negativo o cero.\n",
    "\n",
    " Debe imprimirse de la siguiente forma \"El número ingresado es (positivo / negativo / cero)\"."
   ]
  },
  {
   "cell_type": "code",
   "execution_count": null,
   "metadata": {},
   "outputs": [],
   "source": [
    "#Ask for input\n",
    "print(\"Ingrese un numero\")\n",
    "num_recibido = input()\n",
    "\n",
    "#validate input\n",
    "valid = 0\n",
    "try:\n",
    "    num_convertido = float(num_recibido)\n",
    "    valid = 1\n",
    "except ValueError:\n",
    "    print (\"Este dato no es un número\")\n",
    "\n",
    "#execute task\n",
    "if valid == 1:\n",
    "    if num_convertido > 0:\n",
    "        print (\"El número ingresado es positivo\")\n",
    "    elif num_convertido == 0:\n",
    "        print (\"El número ingresado es cero\")\n",
    "    elif num_convertido < 0:\n",
    "        print (\"El número ingresado es negativo\")\n"
   ]
  },
  {
   "cell_type": "markdown",
   "metadata": {},
   "source": [
    "2. Escribe una secuencia de comandos que tome dos números ingresados por el usuario e imprima \"El primer número es mayor\" o \"El segundo número es mayor\" dependiendo de cuál sea mayor. (** Sugerencia **: necesitará usar `input ()` dos veces.)"
   ]
  },
  {
   "cell_type": "code",
   "execution_count": 6,
   "metadata": {},
   "outputs": [
    {
     "name": "stdout",
     "output_type": "stream",
     "text": [
      "Ingrese número 5.5\n",
      "Ingrese número 5.6\n",
      "El numero maximo de la lista es el # 2 con valor = 5.6 \n",
      "El numero menor es el # 1 con valor = 5.5\n"
     ]
    }
   ],
   "source": [
    "#declare\n",
    "lst = []\n",
    "unvalid = 0\n",
    "num_de_preguntas = 2\n",
    "\n",
    "#ask for numbers and validate\n",
    "for n in range(num_de_preguntas):\n",
    "    try:\n",
    "        numero = float(input('Ingrese número '))\n",
    "        lst.append(numero)\n",
    "    except ValueError:\n",
    "        print (\"Este dato no es un número\")\n",
    "        unvalid = 1\n",
    "        break\n",
    "\n",
    "#execute task        \n",
    "if unvalid == 0: \n",
    "    print (\"El numero maximo de la lista es el #\", lst.index(max(lst)) + 1 ,\"con valor =\", max(lst), \"\\nEl numero menor es el #\", lst.index(min(lst)) + 1, \"con valor =\", min(lst))\n",
    "else:\n",
    "    print (\"Hubo un error al capturar los datos\")"
   ]
  },
  {
   "cell_type": "code",
   "execution_count": null,
   "metadata": {},
   "outputs": [],
   "source": []
  },
  {
   "cell_type": "markdown",
   "metadata": {},
   "source": [
    "3. Escriba un script que calcule la suma de 0 a un número ingresado por el usuario. Sin embargo, esta vez, comience con el número ingresado por el usuario y continúe hacia abajo. Esta respuesta se parecerá mucho al ejemplo anterior, solo tendrá que cambiar un par de cosas."
   ]
  },
  {
   "cell_type": "code",
   "execution_count": 14,
   "metadata": {},
   "outputs": [
    {
     "name": "stdout",
     "output_type": "stream",
     "text": [
      "Ingrese un numero\n",
      "5\n",
      "La suma a cero del número 5 es: 15\n"
     ]
    }
   ],
   "source": [
    "#declare\n",
    "num_sumadoacero = 0\n",
    "\n",
    "#Ask for input\n",
    "print(\"Ingrese un numero\")\n",
    "num_recibido = input()\n",
    "\n",
    "#validate input\n",
    "valid = 0\n",
    "try:\n",
    "    num_convertido = int(num_recibido)\n",
    "    valid = 1\n",
    "except ValueError:\n",
    "    print (\"Este dato no es un número entero\")\n",
    "\n",
    "#execute task\n",
    "if valid == 1:\n",
    "    x = 1\n",
    "    num_convertido_menos = num_convertido\n",
    "    while x <= num_convertido:\n",
    "        num_sumadoacero = num_sumadoacero + num_convertido_menos\n",
    "        num_convertido_menos = num_convertido_menos - 1\n",
    "        x = x + 1\n",
    "    print (\"La suma a cero del número \"+ str(num_convertido) + \" es: \"+ str(num_sumadoacero))\n",
    "\n",
    "\n",
    "        \n",
    "        \n",
    "        \n",
    "        "
   ]
  },
  {
   "cell_type": "markdown",
   "metadata": {},
   "source": [
    "4. Escriba un script que calcule el factorial de un número ingresado por el usuario. Si no sabe qué es un factorial o necesita una revisión, consulte el enlace (https://en.wikipedia.org/wiki/Factorial). Una vez más, su solución se parecerá mucho al código anterior. Cosas que debes pensar:\n",
    "    * ¿Cuál es el proceso de calcular un factorial si fuera a calcularlo a mano?\n",
    "    * ¿Cuál es el punto de partida común cuando se trata de calcular el factorial de cualquier número? <br> <br>"
   ]
  },
  {
   "cell_type": "code",
   "execution_count": 17,
   "metadata": {},
   "outputs": [
    {
     "name": "stdout",
     "output_type": "stream",
     "text": [
      "Ingrese un numero\n",
      "10\n",
      "El factorial de 10, es: 3628800\n"
     ]
    }
   ],
   "source": [
    "#declare\n",
    "num_factorial = 1\n",
    "\n",
    "#Ask for input\n",
    "print(\"Ingrese un numero\")\n",
    "num_recibido = input()\n",
    "\n",
    "#validate input\n",
    "valid = 0\n",
    "try:\n",
    "    num_convertido = int(num_recibido)\n",
    "    valid = 1\n",
    "except ValueError:\n",
    "    print (\"Este dato no es un número entero\")\n",
    "\n",
    "#execute task\n",
    "if valid == 1:\n",
    "    x = 1\n",
    "    num_convertido_menos = num_convertido\n",
    "    while x <= num_convertido:\n",
    "        num_factorial = num_factorial * num_convertido_menos\n",
    "        num_convertido_menos = num_convertido_menos - 1\n",
    "        x = x + 1\n",
    "    print (\"El factorial de \"+ str(num_convertido) + \", es: \"+ str(num_factorial))\n"
   ]
  },
  {
   "cell_type": "markdown",
   "metadata": {},
   "source": [
    "5. Escriba un script que calcule e imprima todos los divisores de un número ingresado por el usuario. Si no sabe qué es un divisor o necesita una revisión, consulte el enlace(https://en.wikipedia.org/wiki/Divisor). Cosas para pensar:\n",
    "    * ¿Cómo se determina si un solo número es un divisor de otro?\n",
    "    * ¿Cómo haces esto varias veces (** Sugerencia **: implica un ciclo while)?\n",
    "    * ¿Cuándo detiene el ciclo? <br> <br>"
   ]
  },
  {
   "cell_type": "code",
   "execution_count": 43,
   "metadata": {},
   "outputs": [
    {
     "name": "stdout",
     "output_type": "stream",
     "text": [
      "Ingrese un numero\n",
      "5\n",
      "Los divisores de 5, son:  [5, 1]\n"
     ]
    }
   ],
   "source": [
    "#declare\n",
    "residuo = 0\n",
    "divisores = []\n",
    "\n",
    "#Ask for input\n",
    "print(\"Ingrese un numero\")\n",
    "num_recibido = input()\n",
    "\n",
    "#validate input\n",
    "valid = 0\n",
    "try:\n",
    "    num_convertido = int(num_recibido)\n",
    "    valid = 1\n",
    "except ValueError:\n",
    "    print (\"Este dato no es un número entero\")\n",
    "\n",
    "#execute task\n",
    "if valid == 1:\n",
    "    x = 1\n",
    "    num_convertido_menos = num_convertido\n",
    "    while x <= num_convertido:\n",
    "        residuo = num_convertido % num_convertido_menos\n",
    "        if residuo == 0:\n",
    "            divisores.append(num_convertido_menos)\n",
    "        num_convertido_menos = num_convertido_menos - 1\n",
    "        x = x + 1\n",
    "    print (\"Los divisores de \"+ str(num_convertido) + \", son: \",divisores)\n"
   ]
  },
  {
   "cell_type": "markdown",
   "metadata": {},
   "source": [
    "6. Escriba un script que calcule el máximo divisor común entre dos números ingresados por el usuario. Si no sabe cuál es el mayor divisor común, consulte el enlace (https://en.wikipedia.org/wiki/Greatest_common_divisor). Cosas para pensar:\n",
    "    * ¿Cómo se obtienen dos números del usuario?\n",
    "    * ¿Dónde debe comenzar su búsqueda del GCD?\n",
    "    * ¿Dónde / cómo debe finalizar su búsqueda? <br> <br>"
   ]
  },
  {
   "cell_type": "code",
   "execution_count": 67,
   "metadata": {},
   "outputs": [
    {
     "name": "stdout",
     "output_type": "stream",
     "text": [
      "Ingrese el primer numero\n",
      "10\n",
      "Ingrese el segundo numero\n",
      "5\n",
      "El máximo divisor común entre 10 y 5 es: 5\n"
     ]
    }
   ],
   "source": [
    "#declare\n",
    "divisores_one = []\n",
    "divisores_two = []\n",
    "\n",
    "#a simple function that returns the divisors of a number\n",
    "def findDivisores(num_recibido):\n",
    "    residio = 0\n",
    "    valid = 0\n",
    "    divisores = []\n",
    "    \n",
    "    try:\n",
    "        num_convertido = int(num_recibido)\n",
    "        valid = 1\n",
    "    except ValueError:\n",
    "        print (\"Este dato no es un número entero\")\n",
    "\n",
    "    \n",
    "    if valid == 1:\n",
    "        x = 1\n",
    "        num_convertido_menos = num_convertido\n",
    "        while x <= num_convertido:\n",
    "            residuo = num_convertido % num_convertido_menos\n",
    "            if residuo == 0:\n",
    "                divisores.append(num_convertido_menos)\n",
    "            num_convertido_menos = num_convertido_menos - 1\n",
    "            x = x + 1\n",
    "        return divisores\n",
    "    else:\n",
    "        return False\n",
    "    \n",
    "#the task is to ask for two numbers\n",
    "#ask for number\n",
    "print(\"Ingrese el primer numero\")\n",
    "num_recibido_one = input()\n",
    "\n",
    "#find divisors of number\n",
    "divisores_one = findDivisores(num_recibido_one)\n",
    "if isinstance(divisores_one,list):\n",
    "    print(\"Ingrese el segundo numero\")\n",
    "    num_recibido_two = input()\n",
    "    divisores_two = findDivisores(num_recibido_two)\n",
    "    if isinstance(divisores_two,list): \n",
    "        #after validating inputs and getting divisors get the gcd\n",
    "        common_divisors = list(set(divisores_one).intersection(set(divisores_two)))\n",
    "        print (\"El máximo divisor común entre \" + num_recibido_one + \" y \" + num_recibido_two + \" es: \" + str(max(common_divisors)))\n",
    "    \n"
   ]
  },
  {
   "cell_type": "markdown",
   "metadata": {},
   "source": [
    "7. Escribe un script que calcule el mínimo común múltiplo entre dos números ingresados por el usuario. Si no sabes cuál es el mínimo común múltiplo o deseas una revisión, puedes consultar (https://en.wikipedia.org/wiki/Least_common_multiple). Cosas para pensar:\n",
    "    * ¿Cómo se obtienen dos números del usuario?\n",
    "    * ¿Dónde debe comenzar su búsqueda del LCM?\n",
    "    * ¿Dónde / cómo debe finalizar su búsqueda? <br> <br>"
   ]
  },
  {
   "cell_type": "code",
   "execution_count": 2,
   "metadata": {},
   "outputs": [
    {
     "name": "stdout",
     "output_type": "stream",
     "text": [
      "Ingrese el primer numero\n",
      "10\n",
      "Ingrese el segundo numero\n",
      "5\n"
     ]
    },
    {
     "ename": "NameError",
     "evalue": "name 'common_multiple' is not defined",
     "output_type": "error",
     "traceback": [
      "\u001b[1;31m---------------------------------------------------------------------------\u001b[0m",
      "\u001b[1;31mNameError\u001b[0m                                 Traceback (most recent call last)",
      "\u001b[1;32m<ipython-input-2-9ef11bd405b5>\u001b[0m in \u001b[0;36m<module>\u001b[1;34m\u001b[0m\n\u001b[0;32m     33\u001b[0m     \u001b[1;32mif\u001b[0m\u001b[1;33m(\u001b[0m\u001b[0misinstance\u001b[0m\u001b[1;33m(\u001b[0m\u001b[0mmultiplos_two\u001b[0m\u001b[1;33m,\u001b[0m\u001b[0mlist\u001b[0m\u001b[1;33m)\u001b[0m\u001b[1;33m)\u001b[0m\u001b[1;33m:\u001b[0m\u001b[1;33m\u001b[0m\u001b[1;33m\u001b[0m\u001b[0m\n\u001b[0;32m     34\u001b[0m         \u001b[0mcommon_multiplos\u001b[0m \u001b[1;33m=\u001b[0m \u001b[0mlist\u001b[0m\u001b[1;33m(\u001b[0m\u001b[0mset\u001b[0m\u001b[1;33m(\u001b[0m\u001b[0mmultiplos_one\u001b[0m\u001b[1;33m)\u001b[0m\u001b[1;33m.\u001b[0m\u001b[0mintersection\u001b[0m\u001b[1;33m(\u001b[0m\u001b[0mset\u001b[0m\u001b[1;33m(\u001b[0m\u001b[0mmultiplos_two\u001b[0m\u001b[1;33m)\u001b[0m\u001b[1;33m)\u001b[0m\u001b[1;33m)\u001b[0m\u001b[1;33m\u001b[0m\u001b[1;33m\u001b[0m\u001b[0m\n\u001b[1;32m---> 35\u001b[1;33m         \u001b[0mprint\u001b[0m \u001b[1;33m(\u001b[0m\u001b[1;34m\"El minimo comun multiplo entre \"\u001b[0m \u001b[1;33m+\u001b[0m \u001b[0mnum_recibido_one\u001b[0m \u001b[1;33m+\u001b[0m \u001b[1;34m\" y \"\u001b[0m \u001b[1;33m+\u001b[0m \u001b[0mnum_recibido_two\u001b[0m \u001b[1;33m+\u001b[0m \u001b[1;34m\" es: \"\u001b[0m \u001b[1;33m+\u001b[0m \u001b[0mstr\u001b[0m\u001b[1;33m(\u001b[0m\u001b[0mmin\u001b[0m\u001b[1;33m(\u001b[0m\u001b[0mcommon_multiple\u001b[0m\u001b[1;33m)\u001b[0m\u001b[1;33m)\u001b[0m\u001b[1;33m)\u001b[0m\u001b[1;33m\u001b[0m\u001b[1;33m\u001b[0m\u001b[0m\n\u001b[0m\u001b[0;32m     36\u001b[0m \u001b[1;33m\u001b[0m\u001b[0m\n\u001b[0;32m     37\u001b[0m \u001b[1;33m\u001b[0m\u001b[0m\n",
      "\u001b[1;31mNameError\u001b[0m: name 'common_multiple' is not defined"
     ]
    }
   ],
   "source": [
    "multiplos_one = []\n",
    "multiplos_two = []\n",
    "\n",
    "def findMultiplos(num_recibido):\n",
    "    valid = 0\n",
    "    multiplos = []\n",
    "    \n",
    "    try:\n",
    "        num_convertido = int(num_recibido)\n",
    "        valid = 1\n",
    "    except ValueError:\n",
    "        print (\"Este dato no es un número entero\")\n",
    "        \n",
    "    if valid == 1:\n",
    "        x = 2\n",
    "        num_convertido_menos = num_convertido\n",
    "        while x <= num_convertido:\n",
    "            division = num_convertido / x\n",
    "            if division.is_integer():\n",
    "                multiplos.append(x)\n",
    "            x = x + 1\n",
    "        return multiplos\n",
    "    else:\n",
    "        return False\n",
    "\n",
    "print(\"Ingrese el primer numero\")\n",
    "num_recibido_one = input()\n",
    "multiplos_one = findMultiplos(num_recibido_one)\n",
    "if isinstance(multiplos_one,list):\n",
    "    print(\"Ingrese el segundo numero\")\n",
    "    num_recibido_two = input()\n",
    "    multiplos_two = findMultiplos(num_recibido_two)\n",
    "    if(isinstance(multiplos_two,list)):\n",
    "        common_multiplos = list(set(multiplos_one).intersection(set(multiplos_two)))\n",
    "        print (\"El minimo comun multiplo entre \" + num_recibido_one + \" y \" + num_recibido_two + \" es: \" + str(min(common_multiple)))\n",
    "    \n",
    "\n",
    "    "
   ]
  },
  {
   "cell_type": "markdown",
   "metadata": {},
   "source": [
    "<8. Escribe una secuencia de comandos que determine si un número ingresado por el usuario es un número primo e imprime `` El número que ingresó es (no es) un número primo '', según lo que encuentre su secuencia de comandos. Si no sabes qué es un número primo o necesita una revisión, consulte el enlace (https://en.wikipedia.org/wiki/Prime_number). Cosas para pensar:\n",
    "    * ¿Cómo verifica si un número es divisible por otro número?\n",
    "    * ¿Qué números son divisibles por un número primo?\n",
    "    * ¿Cómo verifica todos los números por los que un número puede ser divisible (** Sugerencia **: use un bucle)?\n",
    "    * ¿Cuándo detiene el ciclo? <br> <br>"
   ]
  },
  {
   "cell_type": "code",
   "execution_count": null,
   "metadata": {},
   "outputs": [],
   "source": []
  }
 ],
 "metadata": {
  "kernelspec": {
   "display_name": "Python 3",
   "language": "python",
   "name": "python3"
  },
  "language_info": {
   "codemirror_mode": {
    "name": "ipython",
    "version": 3
   },
   "file_extension": ".py",
   "mimetype": "text/x-python",
   "name": "python",
   "nbconvert_exporter": "python",
   "pygments_lexer": "ipython3",
   "version": "3.7.6"
  }
 },
 "nbformat": 4,
 "nbformat_minor": 2
}
