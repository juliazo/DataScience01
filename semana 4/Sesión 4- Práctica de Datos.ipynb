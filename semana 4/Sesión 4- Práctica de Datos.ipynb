{
 "cells": [
  {
   "cell_type": "markdown",
   "metadata": {
    "colab_type": "text",
    "id": "ykDBllTHJQsX"
   },
   "source": [
    "\n",
    "## *Sesión de retos*\n",
    "\n",
    "### Objetivo de la Sesión 4:\n",
    "\n",
    "* Explorar el *set* de datos de la iniciativa 3de3.\n",
    "* Elegir un reto y proponer una solución.\n",
    "\n",
    "### *“Trabajar en equipo, divide el trabajo y multiplica los resultados”*, Anónimo."
   ]
  },
  {
   "cell_type": "code",
   "execution_count": 2,
   "metadata": {
    "colab": {},
    "colab_type": "code",
    "id": "l_LRDau8DwZq"
   },
   "outputs": [],
   "source": [
    "import numpy as np\n",
    "import pandas as pd"
   ]
  },
  {
   "cell_type": "markdown",
   "metadata": {
    "colab_type": "text",
    "id": "5FHaQq39Ufng"
   },
   "source": [
    "# 1. Introducción a un set de datos reales Iniciativa #3de3\n",
    "\n",
    "\n",
    "Bajar el set de datos la iniciativa #3de3\n",
    "\n",
    "Descargar información de https://www.3de3.mx/datos_abiertos"
   ]
  },
  {
   "cell_type": "code",
   "execution_count": 3,
   "metadata": {
    "colab": {
     "base_uri": "https://localhost:8080/",
     "height": 1755
    },
    "colab_type": "code",
    "executionInfo": {
     "elapsed": 1319,
     "status": "ok",
     "timestamp": 1556377142680,
     "user": {
      "displayName": "Ludim Salo",
      "photoUrl": "",
      "userId": "03840773669080222351"
     },
     "user_tz": 300
    },
    "id": "vtkjAN4Wiu2l",
    "outputId": "2a51163d-4193-4afa-cc8d-06bcc2979b5c"
   },
   "outputs": [],
   "source": [
    "import requests\n",
    "import pandas as pd\n",
    "\n",
    "\n",
    "#declarantes_json = requests.get(\"https://3de3.mx/declarantes.json?by_federal_entity=Ciudad de&declarant_type=public_servent\")\n",
    "\n",
    "#declarantes = pd.DataFrame(declarantes_json.json())\n",
    "#declarantes"
   ]
  },
  {
   "cell_type": "code",
   "execution_count": 113,
   "metadata": {},
   "outputs": [],
   "source": [
    "#requests.get(\"https://3de3.mx/declarantes/4918.json?declarant_type=public_servant\").json()"
   ]
  },
  {
   "cell_type": "markdown",
   "metadata": {
    "colab_type": "text",
    "id": "ZsV38vU_SxpK"
   },
   "source": [
    "1. Descargar las primeras 4 páginas\n",
    "2. Agregar columna de género\n",
    "3. Agregar columna de entidad"
   ]
  },
  {
   "cell_type": "markdown",
   "metadata": {},
   "source": [
    "Ejercicio extra de la semana 4 Julio Ontiveros"
   ]
  },
  {
   "cell_type": "code",
   "execution_count": null,
   "metadata": {
    "scrolled": false
   },
   "outputs": [
    {
     "name": "stdout",
     "output_type": "stream",
     "text": [
      "Cargando Pagina 1 F Aguascalientes PRI\n",
      "Cargando Pagina 1 M Aguascalientes PRI\n"
     ]
    }
   ],
   "source": [
    "#the api is kind of glitchy i got a litle confused because in the first part it \n",
    "#asks us to download the first 4 questions and after that it asks us the total of participants\n",
    "#anyway i wrote this that actually works and can download ALL the data of the api even with the \"glitchiness?? :)\"\n",
    "#wich i am going to explain step by step\n",
    "\n",
    "#i made this recursive function the thing is the api wasnt always avaylable it returned 200ok but no json\n",
    "#putting the url in the browser i notice that time to time it returned \"Retry later\" and the i noticed when i put a page that\n",
    "#doesnt exists it returned 404 so i made this recursive to keep trying if it returns \"Retry Later\"\n",
    "def jsonParse(url,try_number = 1):\n",
    "    page_json = requests.get(url)\n",
    "    if (page_json):\n",
    "        page_panda = pd.DataFrame(page_json.json())\n",
    "        if page_json.text == \"Retry later\":\n",
    "            jsonParse(url)\n",
    "        else:\n",
    "            return page_panda\n",
    "    else:\n",
    "        if try_number < 10: \n",
    "            try_number = try_number + 1\n",
    "            jsonParse(url)\n",
    "        return False\n",
    "    \n",
    "#the json doesnt come with the columns you are asking it doesnt either have the index of the values of the parameters\n",
    "#so we can consult so the partys was the copy paste of the list in the page and the states i just typed them it seems to work\n",
    "#well then i made the 3 lists and then iterate first by gender then by party then by state by just commnet the 'break' and get\n",
    "#all the data\n",
    "declarantes = pd.DataFrame()\n",
    "genders = ['F','M']\n",
    "states = ['Aguascalientes','Baja California','Baja California Sur','Campeche','Coahuila','Colima','Chiapas','Chihuahua','Ciudad de','Durango','Guanajuato','Guerrero','Hidalgo','Jalisco','Mexico','Michoacan','Morelos','Nayarit','Nuevo Leon','Oaxaca','Puebla','Queretaro','Quintana Roo','San Luis Potosi','Sinaloa','Sonora','Tabasco','Tamaulipas','Tlaxcala','Veracruz','Yucatan','Zacatecas']\n",
    "parties = ['PRI', 'PAN', 'PT', 'PVEM', 'PRD', 'MC', 'Nueva Alianza', 'Morena', 'PH', 'PES', 'Otro', 'Independiente']\n",
    "for state in states:\n",
    "    for party in parties:\n",
    "        for gender in genders:\n",
    "            arepages = True\n",
    "            x = 1\n",
    "            while(arepages): \n",
    "                page_panda = jsonParse(\"https://3de3.mx/declarantes.json?page={}&by_gender={}&by_federal_entity={}&by_political_party={}&declarant_type=public_servant\".format(str(x),gender,state,party))\n",
    "                if isinstance(page_panda,pd.DataFrame):\n",
    "                    print(\"Cargando Pagina {} {} {} {}\".format(str(x),gender,state,party))\n",
    "                    page_panda['gender'] = gender\n",
    "                    page_panda['federal_entity'] = state\n",
    "                    page_panda['political_party'] = party \n",
    "                    declarantes = declarantes.append([page_panda],ignore_index = True)\n",
    "                    x = x + 1\n",
    "                    break #comment this line to get all the pages\n",
    "                else:\n",
    "                    arepages = False \n",
    "    break #commnet this line to get all the states\n",
    "declarantes"
   ]
  },
  {
   "cell_type": "code",
   "execution_count": null,
   "metadata": {},
   "outputs": [],
   "source": []
  },
  {
   "cell_type": "code",
   "execution_count": null,
   "metadata": {},
   "outputs": [],
   "source": []
  },
  {
   "cell_type": "code",
   "execution_count": null,
   "metadata": {},
   "outputs": [],
   "source": []
  },
  {
   "cell_type": "markdown",
   "metadata": {
    "colab_type": "text",
    "id": "8cMFTOx6VcaJ"
   },
   "source": [
    "### Número total funcionarios en #3de3"
   ]
  },
  {
   "cell_type": "code",
   "execution_count": 117,
   "metadata": {
    "colab": {},
    "colab_type": "code",
    "id": "alXzVYy1VB5V"
   },
   "outputs": [
    {
     "name": "stdout",
     "output_type": "stream",
     "text": [
      "Hay 354 funcionarios\n"
     ]
    }
   ],
   "source": [
    "funcionarios = len(declarantes.index)\n",
    "print (\"Hay {} funcionarios\".format(funcionarios))"
   ]
  },
  {
   "cell_type": "markdown",
   "metadata": {
    "colab_type": "text",
    "id": "nzE80mkELnSK"
   },
   "source": []
  },
  {
   "cell_type": "markdown",
   "metadata": {
    "colab": {},
    "colab_type": "code",
    "id": "gdN99c94iOxx"
   },
   "source": [
    "### Participación en #3de3 por género"
   ]
  },
  {
   "cell_type": "code",
   "execution_count": 118,
   "metadata": {},
   "outputs": [
    {
     "data": {
      "text/plain": [
       "Genero\n",
       "F    150\n",
       "M    204\n",
       "dtype: int64"
      ]
     },
     "execution_count": 118,
     "metadata": {},
     "output_type": "execute_result"
    }
   ],
   "source": [
    "declarantes.groupby([\"Genero\"]).size()"
   ]
  },
  {
   "cell_type": "markdown",
   "metadata": {
    "colab": {},
    "colab_type": "code",
    "id": "lCPKMdvsn9Jm"
   },
   "source": [
    "### Numero de funcionarios por partido"
   ]
  },
  {
   "cell_type": "code",
   "execution_count": 119,
   "metadata": {
    "colab": {},
    "colab_type": "code",
    "id": "DUiOE0EZLmK2"
   },
   "outputs": [
    {
     "data": {
      "text/plain": [
       "Partido\n",
       "Independiente      1\n",
       "MC                20\n",
       "Morena            90\n",
       "Nueva Alianza      5\n",
       "Otro               5\n",
       "PAN              123\n",
       "PES               21\n",
       "PRD               21\n",
       "PRI               53\n",
       "PT                 8\n",
       "PVEM               7\n",
       "dtype: int64"
      ]
     },
     "execution_count": 119,
     "metadata": {},
     "output_type": "execute_result"
    }
   ],
   "source": [
    "declarantes.groupby([\"Partido\"]).size()"
   ]
  },
  {
   "cell_type": "markdown",
   "metadata": {
    "colab_type": "text",
    "id": "c2yGANNNPmjL"
   },
   "source": [
    "# 3. Retos (opcional)\n",
    "\n",
    "- Random Walk\n",
    "\n",
    "- Game of Life\n",
    "\n",
    "- Imagenes\n",
    "\n",
    "- Texto"
   ]
  },
  {
   "cell_type": "markdown",
   "metadata": {
    "colab_type": "text",
    "id": "ru2riczOTEVY"
   },
   "source": [
    "# 4. Conclusiones\n",
    "- ¿Qué se llevan de esta semana?\n",
    "- ¿Qué áreas encontraron de oportunidad en ustedes?\n",
    "- ¿Qué les hubiera gustado ver en esta semana?"
   ]
  }
 ],
 "metadata": {
  "colab": {
   "collapsed_sections": [
    "Pbp6nOk8TpYL",
    "MQTzp5SALqGf",
    "5FHaQq39Ufng"
   ],
   "name": "Copia de Sesión 3 - Práctica de Datos.ipynb",
   "provenance": [
    {
     "file_id": "1ljAmKIoXK8UL3l3FTxBgQpM4hDVf0Irv",
     "timestamp": 1556666988185
    }
   ],
   "version": "0.3.2"
  },
  "kernelspec": {
   "display_name": "Python 3",
   "language": "python",
   "name": "python3"
  },
  "language_info": {
   "codemirror_mode": {
    "name": "ipython",
    "version": 3
   },
   "file_extension": ".py",
   "mimetype": "text/x-python",
   "name": "python",
   "nbconvert_exporter": "python",
   "pygments_lexer": "ipython3",
   "version": "3.7.6"
  }
 },
 "nbformat": 4,
 "nbformat_minor": 1
}
