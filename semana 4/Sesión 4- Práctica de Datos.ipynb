{
 "cells": [
  {
   "cell_type": "markdown",
   "metadata": {
    "colab_type": "text",
    "id": "ykDBllTHJQsX"
   },
   "source": [
    "\n",
    "## *Sesión de retos*\n",
    "\n",
    "### Objetivo de la Sesión 4:\n",
    "\n",
    "* Explorar el *set* de datos de la iniciativa 3de3.\n",
    "* Elegir un reto y proponer una solución.\n",
    "\n",
    "### *“Trabajar en equipo, divide el trabajo y multiplica los resultados”*, Anónimo."
   ]
  },
  {
   "cell_type": "code",
   "execution_count": 2,
   "metadata": {
    "colab": {},
    "colab_type": "code",
    "id": "l_LRDau8DwZq"
   },
   "outputs": [],
   "source": [
    "import numpy as np\n",
    "import pandas as pd"
   ]
  },
  {
   "cell_type": "markdown",
   "metadata": {
    "colab_type": "text",
    "id": "5FHaQq39Ufng"
   },
   "source": [
    "# 1. Introducción a un set de datos reales Iniciativa #3de3\n",
    "\n",
    "\n",
    "Bajar el set de datos la iniciativa #3de3\n",
    "\n",
    "Descargar información de https://www.3de3.mx/datos_abiertos"
   ]
  },
  {
   "cell_type": "code",
   "execution_count": 3,
   "metadata": {
    "colab": {
     "base_uri": "https://localhost:8080/",
     "height": 1755
    },
    "colab_type": "code",
    "executionInfo": {
     "elapsed": 1319,
     "status": "ok",
     "timestamp": 1556377142680,
     "user": {
      "displayName": "Ludim Salo",
      "photoUrl": "",
      "userId": "03840773669080222351"
     },
     "user_tz": 300
    },
    "id": "vtkjAN4Wiu2l",
    "outputId": "2a51163d-4193-4afa-cc8d-06bcc2979b5c"
   },
   "outputs": [],
   "source": [
    "import requests\n",
    "import pandas as pd\n",
    "\n",
    "\n",
    "#declarantes_json = requests.get(\"https://3de3.mx/declarantes.json?by_federal_entity=Ciudad de&declarant_type=public_servent\")\n",
    "\n",
    "#declarantes = pd.DataFrame(declarantes_json.json())\n",
    "#declarantes"
   ]
  },
  {
   "cell_type": "code",
   "execution_count": 113,
   "metadata": {},
   "outputs": [],
   "source": [
    "#requests.get(\"https://3de3.mx/declarantes/4918.json?declarant_type=public_servant\").json()"
   ]
  },
  {
   "cell_type": "markdown",
   "metadata": {
    "colab_type": "text",
    "id": "ZsV38vU_SxpK"
   },
   "source": [
    "1. Descargar las primeras 4 páginas\n",
    "2. Agregar columna de género\n",
    "3. Agregar columna de entidad"
   ]
  },
  {
   "cell_type": "markdown",
   "metadata": {},
   "source": [
    "Ejercicio extra de la semana 4 Julio Ontiveros"
   ]
  },
  {
   "cell_type": "code",
   "execution_count": 6,
   "metadata": {
    "scrolled": false
   },
   "outputs": [
    {
     "name": "stdout",
     "output_type": "stream",
     "text": [
      "Cargando Pagina 1 F Aguascalientes PRI\n",
      "Cargando Pagina 1 M Aguascalientes PRI\n",
      "Cargando Pagina 1 F Aguascalientes PAN\n",
      "Cargando Pagina 1 M Aguascalientes PAN\n",
      "Cargando Pagina 1 F Aguascalientes PT\n",
      "Cargando Pagina 1 M Aguascalientes PT\n",
      "Cargando Pagina 1 F Aguascalientes PVEM\n",
      "Cargando Pagina 1 M Aguascalientes PVEM\n",
      "Cargando Pagina 1 F Aguascalientes PRD\n",
      "Cargando Pagina 1 M Aguascalientes PRD\n",
      "Cargando Pagina 1 M Aguascalientes MC\n",
      "Cargando Pagina 1 F Aguascalientes Nueva Alianza\n",
      "Cargando Pagina 1 M Aguascalientes Nueva Alianza\n",
      "Cargando Pagina 1 F Aguascalientes Morena\n",
      "Cargando Pagina 1 M Aguascalientes Morena\n",
      "Cargando Pagina 1 F Aguascalientes PH\n",
      "Cargando Pagina 1 M Aguascalientes PH\n",
      "Cargando Pagina 1 F Aguascalientes PES\n",
      "Cargando Pagina 1 M Aguascalientes PES\n",
      "Cargando Pagina 1 M Aguascalientes Otro\n",
      "Cargando Pagina 1 F Aguascalientes Independiente\n",
      "Cargando Pagina 1 M Aguascalientes Independiente\n"
     ]
    },
    {
     "data": {
      "text/html": [
       "<div>\n",
       "<style scoped>\n",
       "    .dataframe tbody tr th:only-of-type {\n",
       "        vertical-align: middle;\n",
       "    }\n",
       "\n",
       "    .dataframe tbody tr th {\n",
       "        vertical-align: top;\n",
       "    }\n",
       "\n",
       "    .dataframe thead th {\n",
       "        text-align: right;\n",
       "    }\n",
       "</style>\n",
       "<table border=\"1\" class=\"dataframe\">\n",
       "  <thead>\n",
       "    <tr style=\"text-align: right;\">\n",
       "      <th></th>\n",
       "      <th>id</th>\n",
       "      <th>first_name</th>\n",
       "      <th>last_name</th>\n",
       "      <th>twitter</th>\n",
       "      <th>position</th>\n",
       "      <th>interests</th>\n",
       "      <th>ownership</th>\n",
       "      <th>fiscal</th>\n",
       "      <th>gender</th>\n",
       "      <th>federal_entity</th>\n",
       "      <th>political_party</th>\n",
       "    </tr>\n",
       "  </thead>\n",
       "  <tbody>\n",
       "    <tr>\n",
       "      <th>0</th>\n",
       "      <td>751.0</td>\n",
       "      <td>María</td>\n",
       "      <td>Alemán Muñoz Castillo</td>\n",
       "      <td>MariaAlemanM</td>\n",
       "      <td>Diputado federal</td>\n",
       "      <td>{'document_link': 'https://s3-us-west-1.amazon...</td>\n",
       "      <td>{'document_link': 'https://s3-us-west-1.amazon...</td>\n",
       "      <td>{'document_link': 'https://s3-us-west-1.amazon...</td>\n",
       "      <td>F</td>\n",
       "      <td>Aguascalientes</td>\n",
       "      <td>PRI</td>\n",
       "    </tr>\n",
       "    <tr>\n",
       "      <th>1</th>\n",
       "      <td>5040.0</td>\n",
       "      <td>Ivonne Liliana</td>\n",
       "      <td>Álvarez García</td>\n",
       "      <td>alvarez_ivonne</td>\n",
       "      <td>Diputado federal</td>\n",
       "      <td>{'document_link': 'https://s3-us-west-1.amazon...</td>\n",
       "      <td>{'document_link': 'https://s3-us-west-1.amazon...</td>\n",
       "      <td>{'document_link': 'https://s3-us-west-1.amazon...</td>\n",
       "      <td>F</td>\n",
       "      <td>Aguascalientes</td>\n",
       "      <td>PRI</td>\n",
       "    </tr>\n",
       "    <tr>\n",
       "      <th>2</th>\n",
       "      <td>957.0</td>\n",
       "      <td>Hazel</td>\n",
       "      <td>Montejano García</td>\n",
       "      <td>hazelmontejano</td>\n",
       "      <td>Regidor</td>\n",
       "      <td>{'document_link': 'https://s3-us-west-1.amazon...</td>\n",
       "      <td>{'document_link': 'https://s3-us-west-1.amazon...</td>\n",
       "      <td>{'document_link': 'https://s3-us-west-1.amazon...</td>\n",
       "      <td>F</td>\n",
       "      <td>Aguascalientes</td>\n",
       "      <td>PRI</td>\n",
       "    </tr>\n",
       "    <tr>\n",
       "      <th>3</th>\n",
       "      <td>4918.0</td>\n",
       "      <td>Martha Cecilia</td>\n",
       "      <td>Márquez Alvarado</td>\n",
       "      <td>mmarthamarquez</td>\n",
       "      <td>Senador</td>\n",
       "      <td>{'document_link': 'https://s3-us-west-1.amazon...</td>\n",
       "      <td>{'document_link': 'https://s3-us-west-1.amazon...</td>\n",
       "      <td>{'document_link': 'https://s3-us-west-1.amazon...</td>\n",
       "      <td>F</td>\n",
       "      <td>Aguascalientes</td>\n",
       "      <td>PAN</td>\n",
       "    </tr>\n",
       "    <tr>\n",
       "      <th>4</th>\n",
       "      <td>5055.0</td>\n",
       "      <td>Martha Elisa</td>\n",
       "      <td>González Estrada</td>\n",
       "      <td>MarthaGlzAgs</td>\n",
       "      <td>Diputado federal</td>\n",
       "      <td>{'document_link': 'https://s3-us-west-1.amazon...</td>\n",
       "      <td>{'document_link': 'https://s3-us-west-1.amazon...</td>\n",
       "      <td>{'document_link': 'https://s3-us-west-1.amazon...</td>\n",
       "      <td>F</td>\n",
       "      <td>Aguascalientes</td>\n",
       "      <td>PAN</td>\n",
       "    </tr>\n",
       "    <tr>\n",
       "      <th>...</th>\n",
       "      <td>...</td>\n",
       "      <td>...</td>\n",
       "      <td>...</td>\n",
       "      <td>...</td>\n",
       "      <td>...</td>\n",
       "      <td>...</td>\n",
       "      <td>...</td>\n",
       "      <td>...</td>\n",
       "      <td>...</td>\n",
       "      <td>...</td>\n",
       "      <td>...</td>\n",
       "    </tr>\n",
       "    <tr>\n",
       "      <th>73</th>\n",
       "      <td>6058.0</td>\n",
       "      <td>Gustavo Alberto</td>\n",
       "      <td>Baez Leos</td>\n",
       "      <td>GusBaez6</td>\n",
       "      <td>Diputado local</td>\n",
       "      <td>{'document_link': 'https://s3-us-west-1.amazon...</td>\n",
       "      <td>{'document_link': 'https://s3-us-west-1.amazon...</td>\n",
       "      <td>{'document_link': 'https://s3-us-west-1.amazon...</td>\n",
       "      <td>M</td>\n",
       "      <td>Aguascalientes</td>\n",
       "      <td>MC</td>\n",
       "    </tr>\n",
       "    <tr>\n",
       "      <th>74</th>\n",
       "      <td>6057.0</td>\n",
       "      <td>Salvador</td>\n",
       "      <td>Pérez Sánchez</td>\n",
       "      <td>ChavaPerezAgs</td>\n",
       "      <td>Diputado local</td>\n",
       "      <td>{'document_link': 'https://s3-us-west-1.amazon...</td>\n",
       "      <td>{'document_link': 'https://s3-us-west-1.amazon...</td>\n",
       "      <td>{'document_link': 'https://s3-us-west-1.amazon...</td>\n",
       "      <td>M</td>\n",
       "      <td>Aguascalientes</td>\n",
       "      <td>MC</td>\n",
       "    </tr>\n",
       "    <tr>\n",
       "      <th>75</th>\n",
       "      <td>6062.0</td>\n",
       "      <td>Luis Enrique</td>\n",
       "      <td>García López</td>\n",
       "      <td>QuiqueGalo</td>\n",
       "      <td>Diputado Local</td>\n",
       "      <td>{'document_link': 'https://s3-us-west-1.amazon...</td>\n",
       "      <td>{'document_link': 'https://s3-us-west-1.amazon...</td>\n",
       "      <td>{'document_link': 'https://s3-us-west-1.amazon...</td>\n",
       "      <td>M</td>\n",
       "      <td>Aguascalientes</td>\n",
       "      <td>MC</td>\n",
       "    </tr>\n",
       "    <tr>\n",
       "      <th>76</th>\n",
       "      <td>5041.0</td>\n",
       "      <td>Miroslava</td>\n",
       "      <td>Sánchez Galván</td>\n",
       "      <td>DiputadosMorena</td>\n",
       "      <td>Diputado federal</td>\n",
       "      <td>{'document_link': 'https://s3-us-west-1.amazon...</td>\n",
       "      <td>{'document_link': 'https://s3-us-west-1.amazon...</td>\n",
       "      <td>{'document_link': 'https://s3-us-west-1.amazon...</td>\n",
       "      <td>F</td>\n",
       "      <td>Aguascalientes</td>\n",
       "      <td>Morena</td>\n",
       "    </tr>\n",
       "    <tr>\n",
       "      <th>77</th>\n",
       "      <td>6910.0</td>\n",
       "      <td>Aldo Emmanuel</td>\n",
       "      <td>Ruiz Sánchez</td>\n",
       "      <td>Aldoruizags</td>\n",
       "      <td>Delegado estatal</td>\n",
       "      <td>{'document_link': 'https://s3-us-west-1.amazon...</td>\n",
       "      <td>{'document_link': 'https://s3-us-west-1.amazon...</td>\n",
       "      <td>{'document_link': 'https://s3-us-west-1.amazon...</td>\n",
       "      <td>M</td>\n",
       "      <td>Aguascalientes</td>\n",
       "      <td>Morena</td>\n",
       "    </tr>\n",
       "  </tbody>\n",
       "</table>\n",
       "<p>78 rows × 11 columns</p>\n",
       "</div>"
      ],
      "text/plain": [
       "        id       first_name              last_name          twitter  \\\n",
       "0    751.0            María  Alemán Muñoz Castillo     MariaAlemanM   \n",
       "1   5040.0   Ivonne Liliana         Álvarez García   alvarez_ivonne   \n",
       "2    957.0            Hazel       Montejano García   hazelmontejano   \n",
       "3   4918.0   Martha Cecilia       Márquez Alvarado   mmarthamarquez   \n",
       "4   5055.0     Martha Elisa       González Estrada     MarthaGlzAgs   \n",
       "..     ...              ...                    ...              ...   \n",
       "73  6058.0  Gustavo Alberto              Baez Leos         GusBaez6   \n",
       "74  6057.0         Salvador          Pérez Sánchez    ChavaPerezAgs   \n",
       "75  6062.0     Luis Enrique           García López       QuiqueGalo   \n",
       "76  5041.0        Miroslava         Sánchez Galván  DiputadosMorena   \n",
       "77  6910.0    Aldo Emmanuel           Ruiz Sánchez      Aldoruizags   \n",
       "\n",
       "            position                                          interests  \\\n",
       "0   Diputado federal  {'document_link': 'https://s3-us-west-1.amazon...   \n",
       "1   Diputado federal  {'document_link': 'https://s3-us-west-1.amazon...   \n",
       "2            Regidor  {'document_link': 'https://s3-us-west-1.amazon...   \n",
       "3            Senador  {'document_link': 'https://s3-us-west-1.amazon...   \n",
       "4   Diputado federal  {'document_link': 'https://s3-us-west-1.amazon...   \n",
       "..               ...                                                ...   \n",
       "73    Diputado local  {'document_link': 'https://s3-us-west-1.amazon...   \n",
       "74    Diputado local  {'document_link': 'https://s3-us-west-1.amazon...   \n",
       "75    Diputado Local  {'document_link': 'https://s3-us-west-1.amazon...   \n",
       "76  Diputado federal  {'document_link': 'https://s3-us-west-1.amazon...   \n",
       "77  Delegado estatal  {'document_link': 'https://s3-us-west-1.amazon...   \n",
       "\n",
       "                                            ownership  \\\n",
       "0   {'document_link': 'https://s3-us-west-1.amazon...   \n",
       "1   {'document_link': 'https://s3-us-west-1.amazon...   \n",
       "2   {'document_link': 'https://s3-us-west-1.amazon...   \n",
       "3   {'document_link': 'https://s3-us-west-1.amazon...   \n",
       "4   {'document_link': 'https://s3-us-west-1.amazon...   \n",
       "..                                                ...   \n",
       "73  {'document_link': 'https://s3-us-west-1.amazon...   \n",
       "74  {'document_link': 'https://s3-us-west-1.amazon...   \n",
       "75  {'document_link': 'https://s3-us-west-1.amazon...   \n",
       "76  {'document_link': 'https://s3-us-west-1.amazon...   \n",
       "77  {'document_link': 'https://s3-us-west-1.amazon...   \n",
       "\n",
       "                                               fiscal gender  federal_entity  \\\n",
       "0   {'document_link': 'https://s3-us-west-1.amazon...      F  Aguascalientes   \n",
       "1   {'document_link': 'https://s3-us-west-1.amazon...      F  Aguascalientes   \n",
       "2   {'document_link': 'https://s3-us-west-1.amazon...      F  Aguascalientes   \n",
       "3   {'document_link': 'https://s3-us-west-1.amazon...      F  Aguascalientes   \n",
       "4   {'document_link': 'https://s3-us-west-1.amazon...      F  Aguascalientes   \n",
       "..                                                ...    ...             ...   \n",
       "73  {'document_link': 'https://s3-us-west-1.amazon...      M  Aguascalientes   \n",
       "74  {'document_link': 'https://s3-us-west-1.amazon...      M  Aguascalientes   \n",
       "75  {'document_link': 'https://s3-us-west-1.amazon...      M  Aguascalientes   \n",
       "76  {'document_link': 'https://s3-us-west-1.amazon...      F  Aguascalientes   \n",
       "77  {'document_link': 'https://s3-us-west-1.amazon...      M  Aguascalientes   \n",
       "\n",
       "   political_party  \n",
       "0              PRI  \n",
       "1              PRI  \n",
       "2              PRI  \n",
       "3              PAN  \n",
       "4              PAN  \n",
       "..             ...  \n",
       "73              MC  \n",
       "74              MC  \n",
       "75              MC  \n",
       "76          Morena  \n",
       "77          Morena  \n",
       "\n",
       "[78 rows x 11 columns]"
      ]
     },
     "execution_count": 6,
     "metadata": {},
     "output_type": "execute_result"
    }
   ],
   "source": [
    "#the api is kind of glitchy i got a litle confused because in the first part it \n",
    "#asks us to download the first 4 questions and after that it asks us the total of participants\n",
    "#anyway i wrote this that actually works and can download ALL the data of the api even with the \"glitchiness?? :)\"\n",
    "#wich i am going to explain step by step\n",
    "\n",
    "#i made this recursive function the thing is the api wasnt always avaylable it returned 200ok but no json\n",
    "#putting the url in the browser i notice that time to time it returned \"Retry later\" and the i noticed when i put a page that\n",
    "#doesnt exists it returned 404 so i made this recursive to keep trying if it returns \"Retry Later\"\n",
    "def jsonParse(url,try_number = 1):\n",
    "    page_json = requests.get(url)\n",
    "    if (page_json):\n",
    "        page_panda = pd.DataFrame(page_json.json())\n",
    "        if page_json.text == \"Retry later\":\n",
    "            jsonParse(url)\n",
    "        else:\n",
    "            return page_panda\n",
    "    else:\n",
    "        if try_number < 10: \n",
    "            try_number = try_number + 1\n",
    "            jsonParse(url)\n",
    "        return False\n",
    "    \n",
    "#the json doesnt come with the columns you are asking it doesnt either have the index of the values of the parameters\n",
    "#so we can consult so the partys was the copy paste of the list in the page and the states i just typed them it seems to work\n",
    "#well then i made the 3 lists and then iterate first by gender then by party then by state by just commnet the 'break' and get\n",
    "#all the data\n",
    "declarantes = pd.DataFrame()\n",
    "genders = ['F','M']\n",
    "states = ['Aguascalientes','Baja California','Baja California Sur','Campeche','Coahuila','Colima','Chiapas','Chihuahua','Ciudad de','Durango','Guanajuato','Guerrero','Hidalgo','Jalisco','Mexico','Michoacan','Morelos','Nayarit','Nuevo Leon','Oaxaca','Puebla','Queretaro','Quintana Roo','San Luis Potosi','Sinaloa','Sonora','Tabasco','Tamaulipas','Tlaxcala','Veracruz','Yucatan','Zacatecas']\n",
    "parties = ['PRI', 'PAN', 'PT', 'PVEM', 'PRD', 'MC', 'Nueva Alianza', 'Morena', 'PH', 'PES', 'Otro', 'Independiente']\n",
    "for state in states:\n",
    "    for party in parties:\n",
    "        for gender in genders:\n",
    "            arepages = True\n",
    "            x = 1\n",
    "            while(arepages): \n",
    "                page_panda = jsonParse(\"https://3de3.mx/declarantes.json?page={}&by_gender={}&by_federal_entity={}&by_political_party={}&declarant_type=public_servant\".format(str(x),gender,state,party))\n",
    "                if isinstance(page_panda,pd.DataFrame):\n",
    "                    print(\"Cargando Pagina {} {} {} {}\".format(str(x),gender,state,party))\n",
    "                    page_panda['gender'] = gender\n",
    "                    page_panda['federal_entity'] = state\n",
    "                    page_panda['political_party'] = party \n",
    "                    declarantes = declarantes.append([page_panda],ignore_index = True)\n",
    "                    x = x + 1\n",
    "                    break #comment this line to get all the pages\n",
    "                else:\n",
    "                    arepages = False \n",
    "    break #commnet this line to get all the states\n",
    "declarantes"
   ]
  },
  {
   "cell_type": "code",
   "execution_count": null,
   "metadata": {},
   "outputs": [],
   "source": []
  },
  {
   "cell_type": "code",
   "execution_count": null,
   "metadata": {},
   "outputs": [],
   "source": []
  },
  {
   "cell_type": "code",
   "execution_count": null,
   "metadata": {},
   "outputs": [],
   "source": []
  },
  {
   "cell_type": "markdown",
   "metadata": {
    "colab_type": "text",
    "id": "8cMFTOx6VcaJ"
   },
   "source": [
    "### Número total funcionarios en #3de3"
   ]
  },
  {
   "cell_type": "code",
   "execution_count": 117,
   "metadata": {
    "colab": {},
    "colab_type": "code",
    "id": "alXzVYy1VB5V"
   },
   "outputs": [
    {
     "name": "stdout",
     "output_type": "stream",
     "text": [
      "Hay 354 funcionarios\n"
     ]
    }
   ],
   "source": [
    "funcionarios = len(declarantes.index)\n",
    "print (\"Hay {} funcionarios\".format(funcionarios))"
   ]
  },
  {
   "cell_type": "markdown",
   "metadata": {
    "colab_type": "text",
    "id": "nzE80mkELnSK"
   },
   "source": []
  },
  {
   "cell_type": "markdown",
   "metadata": {
    "colab": {},
    "colab_type": "code",
    "id": "gdN99c94iOxx"
   },
   "source": [
    "### Participación en #3de3 por género"
   ]
  },
  {
   "cell_type": "code",
   "execution_count": 118,
   "metadata": {},
   "outputs": [
    {
     "data": {
      "text/plain": [
       "Genero\n",
       "F    150\n",
       "M    204\n",
       "dtype: int64"
      ]
     },
     "execution_count": 118,
     "metadata": {},
     "output_type": "execute_result"
    }
   ],
   "source": [
    "declarantes.groupby([\"Genero\"]).size()"
   ]
  },
  {
   "cell_type": "markdown",
   "metadata": {
    "colab": {},
    "colab_type": "code",
    "id": "lCPKMdvsn9Jm"
   },
   "source": [
    "### Numero de funcionarios por partido"
   ]
  },
  {
   "cell_type": "code",
   "execution_count": 119,
   "metadata": {
    "colab": {},
    "colab_type": "code",
    "id": "DUiOE0EZLmK2"
   },
   "outputs": [
    {
     "data": {
      "text/plain": [
       "Partido\n",
       "Independiente      1\n",
       "MC                20\n",
       "Morena            90\n",
       "Nueva Alianza      5\n",
       "Otro               5\n",
       "PAN              123\n",
       "PES               21\n",
       "PRD               21\n",
       "PRI               53\n",
       "PT                 8\n",
       "PVEM               7\n",
       "dtype: int64"
      ]
     },
     "execution_count": 119,
     "metadata": {},
     "output_type": "execute_result"
    }
   ],
   "source": [
    "declarantes.groupby([\"Partido\"]).size()"
   ]
  },
  {
   "cell_type": "markdown",
   "metadata": {
    "colab_type": "text",
    "id": "c2yGANNNPmjL"
   },
   "source": [
    "# 3. Retos (opcional)\n",
    "\n",
    "- Random Walk\n",
    "\n",
    "- Game of Life\n",
    "\n",
    "- Imagenes\n",
    "\n",
    "- Texto"
   ]
  },
  {
   "cell_type": "markdown",
   "metadata": {
    "colab_type": "text",
    "id": "ru2riczOTEVY"
   },
   "source": [
    "# 4. Conclusiones\n",
    "- ¿Qué se llevan de esta semana?\n",
    "- ¿Qué áreas encontraron de oportunidad en ustedes?\n",
    "- ¿Qué les hubiera gustado ver en esta semana?"
   ]
  }
 ],
 "metadata": {
  "colab": {
   "collapsed_sections": [
    "Pbp6nOk8TpYL",
    "MQTzp5SALqGf",
    "5FHaQq39Ufng"
   ],
   "name": "Copia de Sesión 3 - Práctica de Datos.ipynb",
   "provenance": [
    {
     "file_id": "1ljAmKIoXK8UL3l3FTxBgQpM4hDVf0Irv",
     "timestamp": 1556666988185
    }
   ],
   "version": "0.3.2"
  },
  "kernelspec": {
   "display_name": "Python 3",
   "language": "python",
   "name": "python3"
  },
  "language_info": {
   "codemirror_mode": {
    "name": "ipython",
    "version": 3
   },
   "file_extension": ".py",
   "mimetype": "text/x-python",
   "name": "python",
   "nbconvert_exporter": "python",
   "pygments_lexer": "ipython3",
   "version": "3.7.6"
  }
 },
 "nbformat": 4,
 "nbformat_minor": 1
}
