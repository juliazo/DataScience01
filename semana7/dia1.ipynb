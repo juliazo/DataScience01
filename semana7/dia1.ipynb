{
 "cells": [
  {
   "cell_type": "markdown",
   "metadata": {},
   "source": [
    "# Semana 1 Clase 1 Act. 1"
   ]
  },
  {
   "cell_type": "markdown",
   "metadata": {},
   "source": [
    "Responde las siguientes preguntas:"
   ]
  },
  {
   "cell_type": "markdown",
   "metadata": {},
   "source": [
    "1. Hay 8 manera de clasificar el tipo sanguíneo de una persona {AB+, AB-, A+, A-, B+, B-, O+, O-} y hay 3 maneras de clasificarlos acorde a su presión arterial {Alta, Baja, Normal}.De cuántas formas podríamos clasificar a un paciente acorde a estos dos parámetros?\n",
    "\n"
   ]
  },
  {
   "cell_type": "code",
   "execution_count": 14,
   "metadata": {},
   "outputs": [
    {
     "data": {
      "text/plain": [
       "24"
      ]
     },
     "execution_count": 14,
     "metadata": {},
     "output_type": "execute_result"
    }
   ],
   "source": [
    "clasificaciones = 8 * 3\n",
    "clasificaciones"
   ]
  },
  {
   "cell_type": "markdown",
   "metadata": {},
   "source": [
    "2. Un experimento consiste en lanzar un dado y tomar una carta al azar de un mazo al mismo tiempo.  \n",
    "De todos los resultados posibles, calcula la probabilidad de:  \n",
    "a) Sacar al menos un 3 en el dado  \n",
    "b) Sacar un rey  \n",
    "c) Sacar como máximo un 2 y una reina"
   ]
  },
  {
   "cell_type": "code",
   "execution_count": 16,
   "metadata": {},
   "outputs": [
    {
     "data": {
      "text/plain": [
       "0.16666666666666666"
      ]
     },
     "execution_count": 16,
     "metadata": {},
     "output_type": "execute_result"
    }
   ],
   "source": [
    "#a\n",
    "tres = 1/6\n",
    "tres\n"
   ]
  },
  {
   "cell_type": "code",
   "execution_count": 17,
   "metadata": {},
   "outputs": [
    {
     "data": {
      "text/plain": [
       "0.019230769230769232"
      ]
     },
     "execution_count": 17,
     "metadata": {},
     "output_type": "execute_result"
    }
   ],
   "source": [
    "#b\n",
    "rey = 1/52\n",
    "rey"
   ]
  },
  {
   "cell_type": "code",
   "execution_count": 18,
   "metadata": {},
   "outputs": [
    {
     "data": {
      "text/plain": [
       "0.003205128205128205"
      ]
     },
     "execution_count": 18,
     "metadata": {},
     "output_type": "execute_result"
    }
   ],
   "source": [
    "dosyreyna = tres * rey\n",
    "dosyreyna"
   ]
  },
  {
   "cell_type": "markdown",
   "metadata": {},
   "source": [
    "3. Alguien está rifando un avión. Tienen 6,000,000 participantes y 100 ganadores de premios idénticos. De cuántas posibles maneras se pueden ganar esos 100 premios? Te recomiendo usar WolframAlpha para esto...  \n",
    "\n",
    "Usaste permutación o combinación? Por qué?  \n",
    "Si compraste sólo un boleto cuál es la probabilidad de que tú ganes un premio?"
   ]
  },
  {
   "cell_type": "markdown",
   "metadata": {},
   "source": [
    "6994603304386259769256915892323518434511815452497297738848217094954679193368013085734755198608668477673557661293104800606110570562703113310332354278244091856081382865861050410796911280357355817770715962195048214721042757598123604508153243244822956929201622863088624681144407235047798502211286834974988358648221898508533654726939178424485314780307773831469349748171247523049495686440715533349964455213..."
   ]
  },
  {
   "cell_type": "markdown",
   "metadata": {},
   "source": [
    "4. Cuál es la probabilidad de sacar una póker en una mano? (póker son 4 cartas del mismo valor y una quinta de cualuier otro valor)"
   ]
  },
  {
   "cell_type": "markdown",
   "metadata": {},
   "source": [
    "manos de poker (cantidad de numeros * probabilidad)\n",
    "como son 5 cartas la probabilidad es 52 51 50 49 48\n",
    "13* 48  = 624 manos que pueden caer en poker\n",
    "la combinacion completa de manos es 52C4 (esto lo saque en wolfram) que da 2598960 osea\n",
    "624/2598960 = 2.4009603841536614645858343337335e-4"
   ]
  },
  {
   "cell_type": "markdown",
   "metadata": {},
   "source": [
    "5. De un costal con 10 canicas: 5 rojas, 3 amarillas, 2 negras, 2 verdes.  \n",
    "Cuál es la probablidad de:  \n",
    "\n",
    "a) Sacar una canica roja.  \n",
    "\n",
    "b) Si sacaste primero una canica negra, y la retiraste del costal, cuál es la probabilidad de sacar 2 canicas amarillas al mismo tiempo?\n",
    "\n",
    "c) Si sacas 4 canicas simultáneamente, de cuántas maneras puedes sacar una de cada color? (Pro tip: Usa combinaciones)"
   ]
  },
  {
   "cell_type": "code",
   "execution_count": null,
   "metadata": {},
   "outputs": [],
   "source": [
    "#a) 5/12 b)3/22 c)60 5*2*2*2"
   ]
  },
  {
   "cell_type": "markdown",
   "metadata": {},
   "source": [
    "6. Tienes un dado cargado cuya probabilidad de sacar un 6 es de P(x = 6) = .5    \n",
    "Sin embargo después de tres intentos no ha salido un 6.  \n",
    "Qué sospechas?"
   ]
  },
  {
   "cell_type": "code",
   "execution_count": null,
   "metadata": {},
   "outputs": [],
   "source": [
    "# que hay que hacer mas intentos"
   ]
  },
  {
   "cell_type": "markdown",
   "metadata": {},
   "source": [
    "7. Un colega les dice que ha descubierto una moneda cargada. Su experimento consistió en lanzar la moneda 6 veces, de las cuáles 5 veces cayó en sol. Qué le dices a tu colega?"
   ]
  },
  {
   "cell_type": "code",
   "execution_count": null,
   "metadata": {},
   "outputs": [],
   "source": [
    "#que la lance mas veces"
   ]
  },
  {
   "cell_type": "markdown",
   "metadata": {},
   "source": [
    "8. Alejandro lleva 5 tiros seguidos sacando un 2 al tirar un dado. Cuál es la probabilidad de que el siguiente también sea un 2? Cuál es la probabilidad de que saque un número diferente? "
   ]
  },
  {
   "cell_type": "code",
   "execution_count": null,
   "metadata": {},
   "outputs": [],
   "source": [
    "#la probabilidad de que saque un 2 es de 1/6 y de que saque un num diferente 5/6"
   ]
  },
  {
   "cell_type": "markdown",
   "metadata": {},
   "source": [
    "9. Calculaste que la probabilidad de un proceso fuera exitoso era de .8, sin embargo, el proceso ya falló tres veces seguidas. Tu jefe está furioso! Cómo explicas esto?  \n",
    "Si cada evento es independiente, cuál es la probabilidad de que vuelva a fallar una cuarta vez?"
   ]
  },
  {
   "cell_type": "code",
   "execution_count": null,
   "metadata": {},
   "outputs": [],
   "source": [
    "#.2 porciento de probabilidad de que vuelva a fallar una caurta vez"
   ]
  },
  {
   "cell_type": "markdown",
   "metadata": {},
   "source": [
    "10. Felicidades! Abriste una pizzería! Tienes 3 tipos de masa, 2 tipos de salsa y 10 diferentes toppings.  \n",
    "\n",
    "a) Cuántas posibles pizzas puedes hacer?  \n",
    "b) Cuál es la probabiliad de que alguien pida una pizza de masa tradicional, salsa roja y pepperoni?  \n",
    "c) De las últimas 100 pizzas que vendiste, 70 era exactamente como la pizza b. Qué concluyes de la probabilidad en b? Qué concluyes de la probabildiad de tus pizzas?  "
   ]
  },
  {
   "cell_type": "code",
   "execution_count": null,
   "metadata": {},
   "outputs": [],
   "source": [
    "a)60 pizzas b)combinacion 1/60 \n",
    "c)que a mis clientes les gusta mucho esa combinacion y que la probabilidad de que me pidan una combinacion\n",
    "en especifico no depende de cuantas combinaciones tengo por lo tanto faltan datos para poder llegar a la conclusion de cual\n",
    "seria la probabilidad que me pidan una combinacion en especifico"
   ]
  },
  {
   "cell_type": "markdown",
   "metadata": {},
   "source": [
    "## Bonus!"
   ]
  },
  {
   "cell_type": "markdown",
   "metadata": {},
   "source": [
    "- Monty Hall\n",
    "- Coin Flips\n",
    "- Newton-Pepys\n",
    "- Birthday Problem"
   ]
  }
 ],
 "metadata": {
  "kernelspec": {
   "display_name": "Python 3",
   "language": "python",
   "name": "python3"
  },
  "language_info": {
   "codemirror_mode": {
    "name": "ipython",
    "version": 3
   },
   "file_extension": ".py",
   "mimetype": "text/x-python",
   "name": "python",
   "nbconvert_exporter": "python",
   "pygments_lexer": "ipython3",
   "version": "3.7.6"
  }
 },
 "nbformat": 4,
 "nbformat_minor": 4
}
